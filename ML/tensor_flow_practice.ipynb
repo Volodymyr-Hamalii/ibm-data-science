{
  "cells": [
    {
      "cell_type": "markdown",
      "metadata": {
        "id": "rm3OS3KgeK5I"
      },
      "source": [
        "# Setup env and load data\n",
        "\n",
        "This is a test project to try different computer vision models (CNN from the scratch, transfer learning etc.). As the test dataset it uses CIFAR-10:\n",
        "https://www.cs.toronto.edu/~kriz/cifar.html"
      ]
    },
    {
      "cell_type": "code",
      "execution_count": 2,
      "metadata": {
        "colab": {
          "base_uri": "https://localhost:8080/"
        },
        "id": "bOS-1NZceQPz",
        "outputId": "ca59bfa1-84b7-4af4-d95c-7e4938331f26"
      },
      "outputs": [
        {
          "name": "stdout",
          "output_type": "stream",
          "text": [
            "TensorFlow version: 2.18.0\n"
          ]
        }
      ],
      "source": [
        "import tensorflow as tf\n",
        "import matplotlib.pyplot as plt\n",
        "import pandas as pd\n",
        "import numpy as np\n",
        "from sklearn.metrics import classification_report, confusion_matrix\n",
        "import seaborn as sns\n",
        "\n",
        "print(\"TensorFlow version:\", tf.__version__)\n"
      ]
    },
    {
      "cell_type": "code",
      "execution_count": 3,
      "metadata": {
        "colab": {
          "base_uri": "https://localhost:8080/"
        },
        "id": "XlGjq6jly18R",
        "outputId": "41caf41a-da78-495b-c020-5186b52e3ccb"
      },
      "outputs": [
        {
          "name": "stdout",
          "output_type": "stream",
          "text": [
            "Drive already mounted at /content/drive; to attempt to forcibly remount, call drive.mount(\"/content/drive\", force_remount=True).\n"
          ]
        }
      ],
      "source": [
        "# Mount Google Drive\n",
        "\n",
        "from google.colab import drive\n",
        "drive.mount(\"/content/drive\")"
      ]
    },
    {
      "cell_type": "markdown",
      "metadata": {
        "id": "Ua19CKhvP7yj"
      },
      "source": [
        "## Paths"
      ]
    },
    {
      "cell_type": "code",
      "execution_count": 4,
      "metadata": {
        "id": "jBYQMesrQCrf"
      },
      "outputs": [],
      "source": [
        "from pathlib import Path\n",
        "import json\n",
        "\n",
        "path_to_google_drive_dir = Path(\"drive/MyDrive/ML-practice/computer-vision\")"
      ]
    },
    {
      "cell_type": "code",
      "execution_count": 5,
      "metadata": {
        "id": "-qWHPcR-Y_8I"
      },
      "outputs": [],
      "source": [
        "def get_path(name: str) -> Path:\n",
        "  \"\"\"\n",
        "  Get path to the dir/file and\n",
        "  generate the parent dir if it doesn't exist.\n",
        "  \"\"\"\n",
        "  path = path_to_google_drive_dir / name\n",
        "\n",
        "  # Create dirs\n",
        "  if path.is_dir():\n",
        "    path.mkdir(parents=True, exist_ok=True)\n",
        "  else:\n",
        "    path.parent.mkdir(parents=True, exist_ok=True)\n",
        "\n",
        "  return path"
      ]
    },
    {
      "cell_type": "markdown",
      "metadata": {
        "id": "heHPNSshQIOw"
      },
      "source": [
        "## Dataset"
      ]
    },
    {
      "cell_type": "code",
      "execution_count": 6,
      "metadata": {
        "id": "MDH9nPYveU4w"
      },
      "outputs": [],
      "source": [
        "# Import dataset\n",
        "from tensorflow.keras.datasets import cifar10\n",
        "\n",
        "(X_train, y_train), (X_test, y_test) = cifar10.load_data()"
      ]
    },
    {
      "cell_type": "code",
      "execution_count": 7,
      "metadata": {
        "colab": {
          "base_uri": "https://localhost:8080/"
        },
        "id": "2pb5cuT43Tv3",
        "outputId": "0d6b5123-36e5-4b81-cec4-44d8ffd69b85"
      },
      "outputs": [
        {
          "data": {
            "text/plain": [
              "(32, 32, 3)"
            ]
          },
          "execution_count": 7,
          "metadata": {},
          "output_type": "execute_result"
        }
      ],
      "source": [
        "X_train[0].shape"
      ]
    },
    {
      "cell_type": "code",
      "execution_count": 8,
      "metadata": {
        "colab": {
          "base_uri": "https://localhost:8080/"
        },
        "id": "3lj2vpMmfdej",
        "outputId": "8f6ce9a6-3705-4cbf-e00d-e15d0582c6a2"
      },
      "outputs": [
        {
          "data": {
            "text/plain": [
              "array([6], dtype=uint8)"
            ]
          },
          "execution_count": 8,
          "metadata": {},
          "output_type": "execute_result"
        }
      ],
      "source": [
        "y_train[0]"
      ]
    },
    {
      "cell_type": "code",
      "execution_count": 9,
      "metadata": {
        "id": "cBawo1bcfD7o"
      },
      "outputs": [],
      "source": [
        "# CIFAR-10 class names\n",
        "class_names = [\n",
        "    'airplane',   # 0\n",
        "    'automobile', # 1\n",
        "    'bird',       # 2\n",
        "    'cat',        # 3\n",
        "    'deer',       # 4\n",
        "    'dog',        # 5\n",
        "    'frog',       # 6\n",
        "    'horse',      # 7\n",
        "    'ship',       # 8\n",
        "    'truck',      # 9\n",
        "  ]"
      ]
    },
    {
      "cell_type": "code",
      "execution_count": 10,
      "metadata": {
        "id": "3uHYNvvL4-A8"
      },
      "outputs": [],
      "source": [
        "INPUT_SHAPE: tuple[int, int, int] = (32, 32, 3)"
      ]
    },
    {
      "cell_type": "markdown",
      "metadata": {
        "id": "OMiCUU6p49y6"
      },
      "source": []
    },
    {
      "cell_type": "markdown",
      "metadata": {
        "id": "b-BT9GLtflA2"
      },
      "source": [
        "# Data preprocessing"
      ]
    },
    {
      "cell_type": "code",
      "execution_count": 11,
      "metadata": {
        "id": "w66ePUdAefqL"
      },
      "outputs": [],
      "source": [
        "def show_images(images: np.ndarray,\n",
        "                labels: np.ndarray,\n",
        "                class_names: list[str] = class_names,\n",
        "                n: int = 5) -> None:\n",
        "    \"\"\"\n",
        "    Display a row of images with their class labels.\n",
        "\n",
        "    Args:\n",
        "        images (np.array): image data (e.g., X_train)\n",
        "        labels (np.array): integer labels (e.g., y_train)\n",
        "        class_names (list): class name list for decoding\n",
        "        n (int): number of images to show\n",
        "    \"\"\"\n",
        "    plt.figure(figsize=(15, 3))\n",
        "    for i in range(n):\n",
        "        plt.subplot(1, n, i+1)\n",
        "        plt.imshow(images[i])\n",
        "        label_index = labels[i] if labels.ndim == 1 else labels[i][0]\n",
        "        plt.title(class_names[label_index])\n",
        "        plt.axis('off')\n",
        "    plt.show()"
      ]
    },
    {
      "cell_type": "code",
      "execution_count": 12,
      "metadata": {
        "id": "ordYFOXde-Wc"
      },
      "outputs": [],
      "source": [
        "# show_images(X_train, y_train, n=5)"
      ]
    },
    {
      "cell_type": "code",
      "execution_count": 13,
      "metadata": {
        "id": "CUAt6lkzecRt"
      },
      "outputs": [],
      "source": [
        "from tensorflow.keras.utils import to_categorical\n",
        "\n",
        "# Normalize pixel values\n",
        "X_train, X_test = X_train / 255.0, X_test / 255.0\n",
        "\n",
        "# One-hot encode labels\n",
        "y_train_cat = to_categorical(y_train, 10)\n",
        "y_test_cat = to_categorical(y_test, 10)"
      ]
    },
    {
      "cell_type": "code",
      "execution_count": 14,
      "metadata": {
        "colab": {
          "base_uri": "https://localhost:8080/",
          "height": 259
        },
        "id": "7mpwYKZUfHhz",
        "outputId": "e73aca6b-6e33-4f90-e6a3-fbe13fab9667"
      },
      "outputs": [
        {
          "data": {
            "image/png": "[encoded data removed]",
            "text/plain": [
              "<Figure size 1500x300 with 5 Axes>"
            ]
          },
          "metadata": {},
          "output_type": "display_data"
        }
      ],
      "source": [
        "show_images(X_train, y_train, n=5)"
      ]
    },
    {
      "cell_type": "markdown",
      "metadata": {
        "id": "zX0zLwKbTzhu"
      },
      "source": [
        "#### Data augmentation"
      ]
    },
    {
      "cell_type": "code",
      "execution_count": 15,
      "metadata": {
        "id": "MD0bq63vhRS_"
      },
      "outputs": [],
      "source": [
        "# from tensorflow.keras.layers import Dropout, BatchNormalization\n",
        "from tensorflow.keras.preprocessing.image import ImageDataGenerator\n",
        "\n",
        "# Data augmentation\n",
        "def create_datagen(rotation_range: int = 15,\n",
        "                    horizontal_flip: bool = True,\n",
        "                    width_shift_range: float = 0.1,\n",
        "                    height_shift_range: float = 0.1) -> ImageDataGenerator:\n",
        "    return ImageDataGenerator(\n",
        "        rotation_range=rotation_range,\n",
        "        horizontal_flip=horizontal_flip,\n",
        "        width_shift_range=width_shift_range,\n",
        "        height_shift_range=height_shift_range\n",
        "    )\n"
      ]
    },
    {
      "cell_type": "markdown",
      "metadata": {
        "id": "7ftPvFSoHyeJ"
      },
      "source": [
        "# Training"
      ]
    },
    {
      "cell_type": "code",
      "execution_count": 16,
      "metadata": {
        "id": "-N7yhEO0HyeJ"
      },
      "outputs": [],
      "source": [
        "from typing import Callable, Union\n",
        "import tensorflow as tf\n",
        "from tensorflow.keras.models import Model\n",
        "from tensorflow.keras.callbacks import Callback, History\n",
        "from tensorflow.keras.preprocessing.image import ImageDataGenerator\n",
        "from tensorflow.keras.models import load_model\n",
        "\n",
        "def load_or_train_model(create_fn: Callable[[], Model],\n",
        "                        model_path: Path,\n",
        "                        history_path: Path,\n",
        "                        callbacks: list[Callback],\n",
        "                        X_train: tf.Tensor,\n",
        "                        y_train_cat: tf.Tensor,\n",
        "                        X_test: tf.Tensor,\n",
        "                        y_test_cat: tf.Tensor,\n",
        "                        datagen: ImageDataGenerator | None = None,\n",
        "                        epochs: int = 30) -> tuple[Model, History]:\n",
        "    \"\"\"\n",
        "    Load a saved model or train a new one and save it.\n",
        "\n",
        "    Args:\n",
        "        create_fn: function that returns a compiled Keras model.\n",
        "        model_path: path to the saved model (.keras or .h5).\n",
        "        datagen: an ImageDataGenerator for data augmentation.\n",
        "        callbacks: list of Keras callbacks (e.g., EarlyStopping, ModelCheckpoint).\n",
        "        X_train, y_train_cat: training data (optional augmented using datagen).\n",
        "        X_test, y_test_cat: validation data.\n",
        "        epochs: number of training epochs.\n",
        "\n",
        "    Returns:\n",
        "        A trained or loaded Keras model.\n",
        "    \"\"\"\n",
        "    try:\n",
        "        model = load_model(model_path)\n",
        "        print(f\"✅ Loaded saved model from {model_path}\")\n",
        "\n",
        "        history = json.load(open(history_path))\n",
        "        print(f\"✅ Loaded history from {history_path}\")\n",
        "\n",
        "    except Exception as e:\n",
        "        print(f\"⚠️ Could not load model or history: {e}\")\n",
        "        model = create_fn()\n",
        "\n",
        "        if datagen:\n",
        "\n",
        "            datagen.fit(X_train)\n",
        "\n",
        "            history: History = model.fit(\n",
        "                datagen.flow(X_train, y_train_cat, batch_size=64),\n",
        "                validation_data=(X_test, y_test_cat),\n",
        "                epochs=epochs,\n",
        "                callbacks=callbacks\n",
        "            )\n",
        "        else:\n",
        "            history: History = model.fit(\n",
        "                X_train,\n",
        "                y_train_cat,\n",
        "                validation_data=(X_test, y_test_cat),\n",
        "                epochs=epochs,\n",
        "                callbacks=callbacks\n",
        "            )\n",
        "\n",
        "        model.save(model_path)\n",
        "        print(f\"💾 Model is saved to {model_path}\")\n",
        "\n",
        "        history_path.write_text(json.dumps(history.history))\n",
        "        print(f\"💾 History is saved to {history_path}\")\n",
        "\n",
        "    return model, history\n"
      ]
    },
    {
      "cell_type": "markdown",
      "metadata": {
        "id": "3waSdTWSSz5D"
      },
      "source": [
        "# Evaluation"
      ]
    },
    {
      "cell_type": "markdown",
      "metadata": {
        "id": "LElvAPwzCgxj"
      },
      "source": [
        "## TensorBoard"
      ]
    },
    {
      "cell_type": "code",
      "execution_count": 17,
      "metadata": {
        "id": "P5ubLap3CpAJ"
      },
      "outputs": [],
      "source": [
        "%load_ext tensorboard"
      ]
    },
    {
      "cell_type": "code",
      "execution_count": 18,
      "metadata": {
        "id": "HZ3pcdOiCrpy"
      },
      "outputs": [],
      "source": [
        "import datetime\n",
        "\n",
        "# Create a func to build a TensorBoard callback\n",
        "\n",
        "def create_tensorboard_callback(path_to_logs: Path):\n",
        "  current_time = datetime.datetime.now().strftime(\"%Y_%m_%d-%H:%M:%S\")\n",
        "  log_dir = path_to_logs / current_time\n",
        "  return tf.keras.callbacks.TensorBoard(log_dir)"
      ]
    },
    {
      "cell_type": "markdown",
      "metadata": {
        "id": "l-uwbhxdCoPK"
      },
      "source": [
        "## Evaluation functions"
      ]
    },
    {
      "cell_type": "code",
      "execution_count": 19,
      "metadata": {
        "id": "QJAp6-TSUd14"
      },
      "outputs": [],
      "source": [
        "# Histories dict to collect and compare the metrics\n",
        "histories: dict[str, tf.keras.callbacks.History] = {}"
      ]
    },
    {
      "cell_type": "code",
      "execution_count": 20,
      "metadata": {
        "id": "Yk-vpfYXfHh0"
      },
      "outputs": [],
      "source": [
        "def plot_confusion_matrix(model_name: str,\n",
        "                          y_pred: np.ndarray,\n",
        "                          y_true: np.ndarray) -> None:\n",
        "    \"\"\"\n",
        "    Plot the confusion matrix of a model.\n",
        "    \"\"\"\n",
        "    cm = confusion_matrix(y_true, y_pred)\n",
        "    sns.heatmap(cm, annot=True, fmt=\"d\", xticklabels=class_names, yticklabels=class_names)\n",
        "    plt.title(\"Confusion Matrix for model: \" + model_name)\n",
        "    plt.show()"
      ]
    },
    {
      "cell_type": "code",
      "execution_count": 21,
      "metadata": {
        "id": "c_gnrnH1S25t"
      },
      "outputs": [],
      "source": [
        "def plot_training_histories(histories: dict[str, tf.keras.callbacks.History],\n",
        "                            metric: str = 'accuracy') -> None:\n",
        "    plt.figure(figsize=(10, 5))\n",
        "    for name, history in histories.items():\n",
        "        plt.plot(history.history[metric], label=f'{name} Train')\n",
        "        plt.plot(history.history[f'val_{metric}'], label=f'{name} Val')\n",
        "    plt.title(f'{metric.title()} over Epochs')\n",
        "    plt.xlabel('Epoch')\n",
        "    plt.ylabel(metric.title())\n",
        "    plt.legend()\n",
        "    plt.grid(True)\n",
        "    plt.show()"
      ]
    },
    {
      "cell_type": "markdown",
      "metadata": {
        "id": "OFNePOp2Ibq7"
      },
      "source": [
        "#### Print general metrics"
      ]
    },
    {
      "cell_type": "code",
      "execution_count": 22,
      "metadata": {
        "id": "AAcXbqORHyeK"
      },
      "outputs": [],
      "source": [
        "def print_general_metrics(model: Model,\n",
        "                          model_name: str,\n",
        "                          model_description: str,\n",
        "                          to_print_model_summary: bool = True,\n",
        "                          to_print_classification_report: bool = True,\n",
        "                          to_plot_confusion_matrix: bool = True) -> None:\n",
        "    print(\"\\nMODEL:\", model_name)\n",
        "    print(model_description, \"\\n\")\n",
        "\n",
        "    if to_print_model_summary:\n",
        "      model.summary()\n",
        "\n",
        "    y_pred = np.argmax(model.predict(X_test), axis=1)\n",
        "    y_true = y_test.flatten()\n",
        "\n",
        "    if to_print_classification_report:\n",
        "      print(classification_report(y_true, y_pred))\n",
        "\n",
        "    if to_plot_confusion_matrix:\n",
        "      plot_confusion_matrix(model_name, y_pred, y_true)\n",
        "\n",
        "    print(\"-------------------------------------------------------------------\")"
      ]
    },
    {
      "cell_type": "code",
      "execution_count": null,
      "metadata": {},
      "outputs": [],
      "source": [
        "from sklearn.metrics import accuracy_score\n",
        "from sklearn.metrics import f1_score\n",
        "\n",
        "\n",
        "def print_accuracy_and_f1_score(model: Model,\n",
        "                                   model_name: str,\n",
        "                                   X_test: tf.Tensor = X_test,\n",
        "                                   y_test: tf.Tensor = y_test) -> None:\n",
        "    y_pred = np.argmax(model.predict(X_test), axis=1)\n",
        "    y_true = y_test.flatten()\n",
        "    print(f\"{model_name} -> Accuracy: {accuracy_score(y_true, y_pred)}, performance: {f1_score(y_true, y_pred)}\")\n"
      ]
    },
    {
      "cell_type": "code",
      "execution_count": null,
      "metadata": {},
      "outputs": [],
      "source": [
        "from sklearn.metrics import RocCurveDisplay, roc_curve, auc, roc_auc_score\n",
        "\n",
        "def plot_roc_auc_score(model: Model,\n",
        "                        model_name: str,\n",
        "                        X_test: tf.Tensor = X_test,\n",
        "                        y_test: tf.Tensor = y_test) -> None:\n",
        "    y_pred = np.argmax(model.predict(X_test), axis=1)\n",
        "    y_true = y_test.flatten()\n",
        "    fpr, tpr, thresholds = roc_curve(y_true, y_pred)\n",
        "    roc_auc = auc(fpr, tpr)\n",
        "    RocCurveDisplay(fpr=fpr, tpr=tpr, roc_auc=roc_auc).plot()"
      ]
    },
    {
      "cell_type": "code",
      "execution_count": null,
      "metadata": {},
      "outputs": [],
      "source": [
        "def print_roc_auc_score(model: Model,\n",
        "                        model_name: str,\n",
        "                        X_test: tf.Tensor = X_test,\n",
        "                        y_test: tf.Tensor = y_test) -> None:\n",
        "    y_pred = np.argmax(model.predict(X_test), axis=1)\n",
        "    y_true = y_test.flatten()\n",
        "    print(f\"{model_name} -> ROC AUC score: {roc_auc_score(y_true, y_pred)}\")"
      ]
    },
    {
      "cell_type": "code",
      "execution_count": 23,
      "metadata": {
        "id": "Gr3th67EHyeK"
      },
      "outputs": [],
      "source": [
        "models_to_evaluate: list[tuple[Model, str, str]] = []  # (model, model_name, description)"
      ]
    },
    {
      "cell_type": "markdown",
      "metadata": {
        "id": "9R0QT5VdLqcE"
      },
      "source": [
        "# Models"
      ]
    },
    {
      "cell_type": "markdown",
      "metadata": {
        "id": "mSSSGDWVg6T3"
      },
      "source": [
        "## 1. CNN from scratch"
      ]
    },
    {
      "cell_type": "markdown",
      "metadata": {
        "id": "6UaykaxFArRN"
      },
      "source": [
        "### Constructors"
      ]
    },
    {
      "cell_type": "code",
      "execution_count": 24,
      "metadata": {
        "id": "g4vc8WDq9KMO"
      },
      "outputs": [],
      "source": [
        "from dataclasses import dataclass, field\n",
        "\n",
        "@dataclass\n",
        "class ModelConfigCCNScratch:\n",
        "    model_name: str = \"model_1_scratch_cnn\"\n",
        "    num_classes: int = len(class_names)\n",
        "    metrics: list[str] = field(default_factory=lambda: [\"accuracy\"])\n",
        "    optimizer: str = \"adam\"\n",
        "    loss_function: str = \"categorical_crossentropy\"\n",
        "    activation_function: str = \"relu\"\n",
        "    conv_layers: list[tuple[int, int, int]] = field(default_factory=lambda: [(32, 3, 3), (64, 3, 3)])\n",
        "    dense_layers: list[int] = field(default_factory=lambda: [64])\n",
        "    datagen: ImageDataGenerator | None = create_datagen()\n",
        "    epochs: int = 30\n",
        "    input_shape: tuple[int, int, int] = INPUT_SHAPE\n",
        "    create_model_fn: Callable[[], Model] | None = None"
      ]
    },
    {
      "cell_type": "code",
      "execution_count": 25,
      "metadata": {
        "id": "ZZOOw5eB9cpB"
      },
      "outputs": [],
      "source": [
        "from tensorflow.keras.models import Model\n",
        "from tensorflow.keras.callbacks import EarlyStopping, ModelCheckpoint\n",
        "\n",
        "\n",
        "def train_model_cnn_scratch(\n",
        "        model_config: ModelConfigCCNScratch,\n",
        "        X_train_param: tf.Tensor = X_train,\n",
        "        y_train_param: tf.Tensor = y_train_cat,\n",
        "        X_test_param: tf.Tensor = X_test,\n",
        "        y_test_param: tf.Tensor = y_test_cat,\n",
        "        ) -> None:\n",
        "    model_description = f\"\"\"\n",
        "    Model with {len(model_config.conv_layers)} conv layers and {len(model_config.dense_layers)} dense layers.\n",
        "    Data augmentation: {'true' if model_config.datagen else 'false'}.\n",
        "    Activation function: {model_config.activation_function}.\n",
        "    Optimizer: {model_config.optimizer}.\n",
        "    Loss function: {model_config.loss_function}.\n",
        "    Metrics: {model_config.metrics}.\n",
        "    \"\"\"\n",
        "\n",
        "    model_name = model_config.model_name\n",
        "    input_shape = model_config.input_shape\n",
        "    create_model_fn = model_config.create_model_fn\n",
        "    activation_function = model_config.activation_function\n",
        "    optimizer = model_config.optimizer\n",
        "    conv_layers = model_config.conv_layers\n",
        "    dense_layers = model_config.dense_layers\n",
        "    loss_function = model_config.loss_function\n",
        "    metrics = model_config.metrics\n",
        "    num_classes = model_config.num_classes\n",
        "    datagen = model_config.datagen\n",
        "\n",
        "    def create_model_scratch_cnn() -> Model:\n",
        "        layers = [\n",
        "            tf.keras.layers.Input(shape=input_shape),\n",
        "        ]\n",
        "\n",
        "        for conv_layer in conv_layers:\n",
        "            layers.append(tf.keras.layers.Conv2D(conv_layer[0], (conv_layer[1], conv_layer[2]), activation=activation_function))\n",
        "            layers.append(tf.keras.layers.MaxPooling2D())\n",
        "\n",
        "        layers.append(tf.keras.layers.Flatten())\n",
        "\n",
        "        for dense_layer in dense_layers:\n",
        "            layers.append(tf.keras.layers.Dense(dense_layer, activation=activation_function))\n",
        "\n",
        "        layers.append(tf.keras.layers.Dense(num_classes, activation=\"softmax\"))\n",
        "\n",
        "        model = tf.keras.Sequential(layers)\n",
        "        model.compile(optimizer=optimizer, loss=loss_function, metrics=metrics)\n",
        "        return model\n",
        "\n",
        "    # Paths\n",
        "    path_to_model = get_path(f\"{model_name}.keras\")\n",
        "    path_to_model_history = get_path(f\"{model_name}_history.json\")\n",
        "    path_to_model_logs = get_path(f\"{model_name}_logs\")\n",
        "\n",
        "    # Train (load) model\n",
        "    trained_model, model_history = load_or_train_model(\n",
        "        create_fn=create_model_fn or create_model_scratch_cnn,\n",
        "        model_path=path_to_model,\n",
        "        history_path=path_to_model_history,\n",
        "        datagen=datagen,\n",
        "        callbacks=[\n",
        "            EarlyStopping(patience=5, restore_best_weights=True),\n",
        "            ModelCheckpoint(str(path_to_model), save_best_only=True),\n",
        "            create_tensorboard_callback(path_to_model_logs),\n",
        "        ],\n",
        "        X_train=X_train_param,\n",
        "        y_train_cat=y_train_param,\n",
        "        X_test=X_test_param,\n",
        "        y_test_cat=y_test_param\n",
        "    )\n",
        "\n",
        "    # Save history\n",
        "    histories[model_name] = model_history\n",
        "    models_to_evaluate.append((trained_model, model_name, model_description))\n"
      ]
    },
    {
      "cell_type": "markdown",
      "metadata": {
        "id": "PTFoH-V3QVjx"
      },
      "source": [
        "### 1.1. Base"
      ]
    },
    {
      "cell_type": "code",
      "execution_count": 26,
      "metadata": {
        "colab": {
          "base_uri": "https://localhost:8080/"
        },
        "id": "LIKcC2zD3Elm",
        "outputId": "16c9f601-7d29-4f89-aaa0-525d9fb3ce71"
      },
      "outputs": [
        {
          "name": "stdout",
          "output_type": "stream",
          "text": [
            "✅ Loaded saved model from drive/MyDrive/ML-practice/computer-vision/model_1_scratch_cnn.keras\n",
            "✅ Loaded history from drive/MyDrive/ML-practice/computer-vision/model_1_scratch_cnn_history.json\n"
          ]
        }
      ],
      "source": [
        "model_config = ModelConfigCCNScratch()\n",
        "\n",
        "train_model_cnn_scratch(model_config=model_config)"
      ]
    },
    {
      "cell_type": "code",
      "execution_count": 27,
      "metadata": {
        "id": "2UF46kgIEnZB"
      },
      "outputs": [],
      "source": [
        "# %tensorboard --logdir 'drive/MyDrive/ML-practice/computer-vision/model_1_scratch_cnn_logs'"
      ]
    },
    {
      "cell_type": "markdown",
      "metadata": {
        "id": "qPMvWLlyPHhb"
      },
      "source": [
        "### 1.2. Base +1 Conv2D layer"
      ]
    },
    {
      "cell_type": "code",
      "execution_count": 28,
      "metadata": {
        "colab": {
          "base_uri": "https://localhost:8080/"
        },
        "id": "A2lacF3HQBS-",
        "outputId": "e7627cf4-49cd-43b9-c8df-43857209fa3d"
      },
      "outputs": [
        {
          "name": "stdout",
          "output_type": "stream",
          "text": [
            "✅ Loaded saved model from drive/MyDrive/ML-practice/computer-vision/model_2_scratch_cnn.keras\n",
            "✅ Loaded history from drive/MyDrive/ML-practice/computer-vision/model_2_scratch_cnn_history.json\n"
          ]
        }
      ],
      "source": [
        "model_config = ModelConfigCCNScratch(\n",
        "    model_name=\"model_2_scratch_cnn\",\n",
        "    conv_layers=[(32, 3, 3), (64, 3, 3), (128, 3, 3)],\n",
        ")\n",
        "\n",
        "train_model_cnn_scratch(model_config=model_config)"
      ]
    },
    {
      "cell_type": "code",
      "execution_count": 29,
      "metadata": {
        "id": "fI7N96NPQw1Z"
      },
      "outputs": [],
      "source": [
        "# %tensorboard --logdir 'drive/MyDrive/ML-practice/computer-vision/model_2_scratch_cnn_logs'"
      ]
    },
    {
      "cell_type": "markdown",
      "metadata": {
        "id": "On2kVR1T1RDT"
      },
      "source": [
        "### 1.3. Base -1 Conv2D layer"
      ]
    },
    {
      "cell_type": "code",
      "execution_count": 30,
      "metadata": {
        "colab": {
          "base_uri": "https://localhost:8080/"
        },
        "id": "xqMGMGcn1VaV",
        "outputId": "3231bb1d-ee2e-48df-9d01-2bf4f1803075"
      },
      "outputs": [
        {
          "name": "stdout",
          "output_type": "stream",
          "text": [
            "✅ Loaded saved model from drive/MyDrive/ML-practice/computer-vision/model_3_scratch_cnn.keras\n",
            "✅ Loaded history from drive/MyDrive/ML-practice/computer-vision/model_3_scratch_cnn_history.json\n"
          ]
        }
      ],
      "source": [
        "model_config = ModelConfigCCNScratch(\n",
        "    model_name=\"model_3_scratch_cnn\",\n",
        "    conv_layers=[(32, 3, 3)],\n",
        ")\n",
        "\n",
        "train_model_cnn_scratch(model_config=model_config)"
      ]
    },
    {
      "cell_type": "markdown",
      "metadata": {
        "id": "zw3l99Kh1u6E"
      },
      "source": [
        "### 1.4. Base increased kernel_size (5, 5)"
      ]
    },
    {
      "cell_type": "code",
      "execution_count": 31,
      "metadata": {
        "colab": {
          "base_uri": "https://localhost:8080/"
        },
        "id": "AmfTgAwN2Bw_",
        "outputId": "c9ebfc57-a5d0-4e7f-a8a4-9bc163ab847d"
      },
      "outputs": [
        {
          "name": "stdout",
          "output_type": "stream",
          "text": [
            "✅ Loaded saved model from drive/MyDrive/ML-practice/computer-vision/model_4_scratch_cnn.keras\n",
            "✅ Loaded history from drive/MyDrive/ML-practice/computer-vision/model_4_scratch_cnn_history.json\n"
          ]
        }
      ],
      "source": [
        "model_config = ModelConfigCCNScratch(\n",
        "    model_name=\"model_4_scratch_cnn\",\n",
        "    conv_layers=[(32, 5, 5), (64, 5, 5)],\n",
        ")\n",
        "\n",
        "train_model_cnn_scratch(model_config=model_config)"
      ]
    },
    {
      "cell_type": "markdown",
      "metadata": {
        "id": "Y0fkr9122dRS"
      },
      "source": [
        "### 1.5. Base with activation_function=\"tanh\""
      ]
    },
    {
      "cell_type": "code",
      "execution_count": 32,
      "metadata": {
        "colab": {
          "base_uri": "https://localhost:8080/"
        },
        "id": "ehPOSApT_EPx",
        "outputId": "66254778-9f34-4562-f391-bfa7988161d0"
      },
      "outputs": [
        {
          "name": "stdout",
          "output_type": "stream",
          "text": [
            "✅ Loaded saved model from drive/MyDrive/ML-practice/computer-vision/model_5_scratch_cnn.keras\n",
            "✅ Loaded history from drive/MyDrive/ML-practice/computer-vision/model_5_scratch_cnn_history.json\n"
          ]
        }
      ],
      "source": [
        "model_config = ModelConfigCCNScratch(\n",
        "    model_name=\"model_5_scratch_cnn\",\n",
        "    activation_function=\"tanh\",\n",
        ")\n",
        "\n",
        "train_model_cnn_scratch(model_config=model_config)"
      ]
    },
    {
      "cell_type": "markdown",
      "metadata": {
        "id": "Jp6BzbcC_Mtt"
      },
      "source": [
        "### 1.6. Base with activation_function=\"leaky_relu\""
      ]
    },
    {
      "cell_type": "code",
      "execution_count": 33,
      "metadata": {
        "colab": {
          "base_uri": "https://localhost:8080/"
        },
        "id": "yGinyvG1_NQO",
        "outputId": "59be91d6-abd6-42a7-8408-769ca3da8cc7"
      },
      "outputs": [
        {
          "name": "stdout",
          "output_type": "stream",
          "text": [
            "✅ Loaded saved model from drive/MyDrive/ML-practice/computer-vision/model_6_scratch_cnn.keras\n",
            "✅ Loaded history from drive/MyDrive/ML-practice/computer-vision/model_6_scratch_cnn_history.json\n"
          ]
        }
      ],
      "source": [
        "model_config = ModelConfigCCNScratch(\n",
        "    model_name=\"model_6_scratch_cnn\",\n",
        "    activation_function=\"leaky_relu\",\n",
        ")\n",
        "\n",
        "train_model_cnn_scratch(model_config=model_config)"
      ]
    },
    {
      "cell_type": "markdown",
      "metadata": {
        "id": "ESudq92X_WY3"
      },
      "source": [
        "### 1.7. Base with optimizer=\"sgd\""
      ]
    },
    {
      "cell_type": "code",
      "execution_count": 34,
      "metadata": {
        "colab": {
          "base_uri": "https://localhost:8080/"
        },
        "id": "kG-EAq1g_iFD",
        "outputId": "0ba40a14-9e7d-40d2-cbed-3935fc3e9399"
      },
      "outputs": [
        {
          "name": "stdout",
          "output_type": "stream",
          "text": [
            "✅ Loaded saved model from drive/MyDrive/ML-practice/computer-vision/model_7_scratch_cnn.keras\n",
            "✅ Loaded history from drive/MyDrive/ML-practice/computer-vision/model_7_scratch_cnn_history.json\n"
          ]
        }
      ],
      "source": [
        "model_config = ModelConfigCCNScratch(\n",
        "    model_name=\"model_7_scratch_cnn\",\n",
        "    optimizer=\"sgd\",\n",
        ")\n",
        "\n",
        "train_model_cnn_scratch(model_config=model_config)"
      ]
    },
    {
      "cell_type": "markdown",
      "metadata": {
        "id": "hO19BOxU_WSV"
      },
      "source": [
        "### 1.8. Base with loss_function=\"sparse_categorical_crossentropy\""
      ]
    },
    {
      "cell_type": "code",
      "execution_count": 35,
      "metadata": {
        "colab": {
          "base_uri": "https://localhost:8080/"
        },
        "id": "WPgVwJjd_mLP",
        "outputId": "d89be282-b61b-4d45-85c0-37174dfbadf2"
      },
      "outputs": [
        {
          "name": "stdout",
          "output_type": "stream",
          "text": [
            "✅ Loaded saved model from drive/MyDrive/ML-practice/computer-vision/model_8_scratch_cnn.keras\n",
            "✅ Loaded history from drive/MyDrive/ML-practice/computer-vision/model_8_scratch_cnn_history.json\n"
          ]
        }
      ],
      "source": [
        "model_config = ModelConfigCCNScratch(\n",
        "    model_name=\"model_8_scratch_cnn\",\n",
        "    loss_function=\"sparse_categorical_crossentropy\",\n",
        ")\n",
        "\n",
        "train_model_cnn_scratch(model_config=model_config, y_test_param=y_test, y_train_param=y_train)"
      ]
    },
    {
      "cell_type": "markdown",
      "metadata": {
        "id": "cDaoTAMw_WP3"
      },
      "source": [
        "### 1.9. Base with dense_layers=[32]"
      ]
    },
    {
      "cell_type": "code",
      "execution_count": 36,
      "metadata": {
        "colab": {
          "base_uri": "https://localhost:8080/"
        },
        "id": "-oA2FUST_mri",
        "outputId": "ffeff42e-0c7f-444c-ae29-aaca5a711fa3"
      },
      "outputs": [
        {
          "name": "stdout",
          "output_type": "stream",
          "text": [
            "⚠️ Could not load model or history: File not found: filepath=drive/MyDrive/ML-practice/computer-vision/model_9_scratch_cnn.keras. Please ensure the file is an accessible `.keras` zip file.\n"
          ]
        },
        {
          "name": "stderr",
          "output_type": "stream",
          "text": [
            "/usr/local/lib/python3.11/dist-packages/keras/src/trainers/data_adapters/py_dataset_adapter.py:121: UserWarning: Your `PyDataset` class should call `super().__init__(**kwargs)` in its constructor. `**kwargs` can include `workers`, `use_multiprocessing`, `max_queue_size`. Do not pass these arguments to `fit()`, as they will be ignored.\n",
            "  self._warn_if_super_not_called()\n"
          ]
        },
        {
          "name": "stdout",
          "output_type": "stream",
          "text": [
            "Epoch 1/30\n",
            "\u001b[1m782/782\u001b[0m \u001b[32m━━━━━━━━━━━━━━━━━━━━\u001b[0m\u001b[37m\u001b[0m \u001b[1m37s\u001b[0m 41ms/step - accuracy: 0.3331 - loss: 1.8402 - val_accuracy: 0.5055 - val_loss: 1.3907\n",
            "Epoch 2/30\n",
            "\u001b[1m782/782\u001b[0m \u001b[32m━━━━━━━━━━━━━━━━━━━━\u001b[0m\u001b[37m\u001b[0m \u001b[1m30s\u001b[0m 39ms/step - accuracy: 0.4959 - loss: 1.3960 - val_accuracy: 0.5890 - val_loss: 1.1688\n",
            "Epoch 3/30\n",
            "\u001b[1m782/782\u001b[0m \u001b[32m━━━━━━━━━━━━━━━━━━━━\u001b[0m\u001b[37m\u001b[0m \u001b[1m30s\u001b[0m 38ms/step - accuracy: 0.5528 - loss: 1.2639 - val_accuracy: 0.6050 - val_loss: 1.1252\n",
            "Epoch 4/30\n",
            "\u001b[1m782/782\u001b[0m \u001b[32m━━━━━━━━━━━━━━━━━━━━\u001b[0m\u001b[37m\u001b[0m \u001b[1m30s\u001b[0m 38ms/step - accuracy: 0.5815 - loss: 1.1836 - val_accuracy: 0.6337 - val_loss: 1.0467\n",
            "Epoch 5/30\n",
            "\u001b[1m782/782\u001b[0m \u001b[32m━━━━━━━━━━━━━━━━━━━━\u001b[0m\u001b[37m\u001b[0m \u001b[1m29s\u001b[0m 37ms/step - accuracy: 0.6003 - loss: 1.1340 - val_accuracy: 0.6385 - val_loss: 1.0408\n",
            "Epoch 6/30\n",
            "\u001b[1m782/782\u001b[0m \u001b[32m━━━━━━━━━━━━━━━━━━━━\u001b[0m\u001b[37m\u001b[0m \u001b[1m41s\u001b[0m 37ms/step - accuracy: 0.6138 - loss: 1.0947 - val_accuracy: 0.6706 - val_loss: 0.9682\n",
            "Epoch 7/30\n",
            "\u001b[1m782/782\u001b[0m \u001b[32m━━━━━━━━━━━━━━━━━━━━\u001b[0m\u001b[37m\u001b[0m \u001b[1m32s\u001b[0m 41ms/step - accuracy: 0.6292 - loss: 1.0648 - val_accuracy: 0.6628 - val_loss: 0.9897\n",
            "Epoch 8/30\n",
            "\u001b[1m782/782\u001b[0m \u001b[32m━━━━━━━━━━━━━━━━━━━━\u001b[0m\u001b[37m\u001b[0m \u001b[1m29s\u001b[0m 37ms/step - accuracy: 0.6373 - loss: 1.0356 - val_accuracy: 0.6638 - val_loss: 0.9796\n",
            "Epoch 9/30\n",
            "\u001b[1m782/782\u001b[0m \u001b[32m━━━━━━━━━━━━━━━━━━━━\u001b[0m\u001b[37m\u001b[0m \u001b[1m41s\u001b[0m 38ms/step - accuracy: 0.6422 - loss: 1.0214 - val_accuracy: 0.6842 - val_loss: 0.9262\n",
            "Epoch 10/30\n",
            "\u001b[1m782/782\u001b[0m \u001b[32m━━━━━━━━━━━━━━━━━━━━\u001b[0m\u001b[37m\u001b[0m \u001b[1m30s\u001b[0m 38ms/step - accuracy: 0.6545 - loss: 0.9964 - val_accuracy: 0.6954 - val_loss: 0.9045\n",
            "Epoch 11/30\n",
            "\u001b[1m782/782\u001b[0m \u001b[32m━━━━━━━━━━━━━━━━━━━━\u001b[0m\u001b[37m\u001b[0m \u001b[1m30s\u001b[0m 38ms/step - accuracy: 0.6559 - loss: 0.9893 - val_accuracy: 0.6849 - val_loss: 0.9234\n",
            "Epoch 12/30\n",
            "\u001b[1m782/782\u001b[0m \u001b[32m━━━━━━━━━━━━━━━━━━━━\u001b[0m\u001b[37m\u001b[0m \u001b[1m31s\u001b[0m 39ms/step - accuracy: 0.6555 - loss: 0.9789 - val_accuracy: 0.6981 - val_loss: 0.8947\n",
            "Epoch 13/30\n",
            "\u001b[1m782/782\u001b[0m \u001b[32m━━━━━━━━━━━━━━━━━━━━\u001b[0m\u001b[37m\u001b[0m \u001b[1m30s\u001b[0m 38ms/step - accuracy: 0.6727 - loss: 0.9455 - val_accuracy: 0.7022 - val_loss: 0.8763\n",
            "Epoch 14/30\n",
            "\u001b[1m782/782\u001b[0m \u001b[32m━━━━━━━━━━━━━━━━━━━━\u001b[0m\u001b[37m\u001b[0m \u001b[1m32s\u001b[0m 40ms/step - accuracy: 0.6793 - loss: 0.9256 - val_accuracy: 0.7080 - val_loss: 0.8647\n",
            "Epoch 15/30\n",
            "\u001b[1m782/782\u001b[0m \u001b[32m━━━━━━━━━━━━━━━━━━━━\u001b[0m\u001b[37m\u001b[0m \u001b[1m30s\u001b[0m 38ms/step - accuracy: 0.6832 - loss: 0.9185 - val_accuracy: 0.7190 - val_loss: 0.8325\n",
            "Epoch 16/30\n",
            "\u001b[1m782/782\u001b[0m \u001b[32m━━━━━━━━━━━━━━━━━━━━\u001b[0m\u001b[37m\u001b[0m \u001b[1m41s\u001b[0m 38ms/step - accuracy: 0.6809 - loss: 0.9156 - val_accuracy: 0.7197 - val_loss: 0.8415\n",
            "Epoch 17/30\n",
            "\u001b[1m782/782\u001b[0m \u001b[32m━━━━━━━━━━━━━━━━━━━━\u001b[0m\u001b[37m\u001b[0m \u001b[1m42s\u001b[0m 39ms/step - accuracy: 0.6866 - loss: 0.9044 - val_accuracy: 0.7150 - val_loss: 0.8513\n",
            "Epoch 18/30\n",
            "\u001b[1m782/782\u001b[0m \u001b[32m━━━━━━━━━━━━━━━━━━━━\u001b[0m\u001b[37m\u001b[0m \u001b[1m29s\u001b[0m 38ms/step - accuracy: 0.6912 - loss: 0.8889 - val_accuracy: 0.7194 - val_loss: 0.8255\n",
            "Epoch 19/30\n",
            "\u001b[1m782/782\u001b[0m \u001b[32m━━━━━━━━━━━━━━━━━━━━\u001b[0m\u001b[37m\u001b[0m \u001b[1m29s\u001b[0m 37ms/step - accuracy: 0.6878 - loss: 0.8937 - val_accuracy: 0.7107 - val_loss: 0.8427\n",
            "Epoch 20/30\n",
            "\u001b[1m782/782\u001b[0m \u001b[32m━━━━━━━━━━━━━━━━━━━━\u001b[0m\u001b[37m\u001b[0m \u001b[1m31s\u001b[0m 39ms/step - accuracy: 0.6943 - loss: 0.8716 - val_accuracy: 0.7192 - val_loss: 0.8255\n",
            "Epoch 21/30\n",
            "\u001b[1m782/782\u001b[0m \u001b[32m━━━━━━━━━━━━━━━━━━━━\u001b[0m\u001b[37m\u001b[0m \u001b[1m29s\u001b[0m 38ms/step - accuracy: 0.7005 - loss: 0.8636 - val_accuracy: 0.7176 - val_loss: 0.8497\n",
            "Epoch 22/30\n",
            "\u001b[1m782/782\u001b[0m \u001b[32m━━━━━━━━━━━━━━━━━━━━\u001b[0m\u001b[37m\u001b[0m \u001b[1m42s\u001b[0m 39ms/step - accuracy: 0.7006 - loss: 0.8627 - val_accuracy: 0.7080 - val_loss: 0.8671\n",
            "Epoch 23/30\n",
            "\u001b[1m782/782\u001b[0m \u001b[32m━━━━━━━━━━━━━━━━━━━━\u001b[0m\u001b[37m\u001b[0m \u001b[1m30s\u001b[0m 38ms/step - accuracy: 0.7042 - loss: 0.8467 - val_accuracy: 0.7255 - val_loss: 0.8294\n",
            "💾 Model is saved to drive/MyDrive/ML-practice/computer-vision/model_9_scratch_cnn.keras\n",
            "💾 History is saved to drive/MyDrive/ML-practice/computer-vision/model_9_scratch_cnn_history.json\n"
          ]
        }
      ],
      "source": [
        "model_config = ModelConfigCCNScratch(\n",
        "    model_name=\"model_9_scratch_cnn\",\n",
        "    dense_layers=[32],\n",
        ")\n",
        "\n",
        "train_model_cnn_scratch(model_config=model_config)"
      ]
    },
    {
      "cell_type": "markdown",
      "metadata": {
        "id": "6UFkx-tl_WMp"
      },
      "source": [
        "### 1.10. Base with dense_layers=[128]"
      ]
    },
    {
      "cell_type": "code",
      "execution_count": 37,
      "metadata": {
        "colab": {
          "base_uri": "https://localhost:8080/"
        },
        "id": "gJEHaEbL_nWo",
        "outputId": "49ae89b3-b7e2-42b7-9d32-f36d651ddeae"
      },
      "outputs": [
        {
          "name": "stdout",
          "output_type": "stream",
          "text": [
            "⚠️ Could not load model or history: File not found: filepath=drive/MyDrive/ML-practice/computer-vision/model_10_scratch_cnn.keras. Please ensure the file is an accessible `.keras` zip file.\n",
            "Epoch 1/30\n",
            "\u001b[1m782/782\u001b[0m \u001b[32m━━━━━━━━━━━━━━━━━━━━\u001b[0m\u001b[37m\u001b[0m \u001b[1m35s\u001b[0m 41ms/step - accuracy: 0.3548 - loss: 1.7545 - val_accuracy: 0.5244 - val_loss: 1.3509\n",
            "Epoch 2/30\n",
            "\u001b[1m782/782\u001b[0m \u001b[32m━━━━━━━━━━━━━━━━━━━━\u001b[0m\u001b[37m\u001b[0m \u001b[1m36s\u001b[0m 37ms/step - accuracy: 0.5372 - loss: 1.3031 - val_accuracy: 0.6175 - val_loss: 1.0862\n",
            "Epoch 3/30\n",
            "\u001b[1m782/782\u001b[0m \u001b[32m━━━━━━━━━━━━━━━━━━━━\u001b[0m\u001b[37m\u001b[0m \u001b[1m32s\u001b[0m 40ms/step - accuracy: 0.5843 - loss: 1.1735 - val_accuracy: 0.6482 - val_loss: 1.0078\n",
            "Epoch 4/30\n",
            "\u001b[1m782/782\u001b[0m \u001b[32m━━━━━━━━━━━━━━━━━━━━\u001b[0m\u001b[37m\u001b[0m \u001b[1m29s\u001b[0m 38ms/step - accuracy: 0.6114 - loss: 1.0999 - val_accuracy: 0.6339 - val_loss: 1.0453\n",
            "Epoch 5/30\n",
            "\u001b[1m782/782\u001b[0m \u001b[32m━━━━━━━━━━━━━━━━━━━━\u001b[0m\u001b[37m\u001b[0m \u001b[1m29s\u001b[0m 38ms/step - accuracy: 0.6336 - loss: 1.0391 - val_accuracy: 0.6654 - val_loss: 0.9469\n",
            "Epoch 6/30\n",
            "\u001b[1m782/782\u001b[0m \u001b[32m━━━━━━━━━━━━━━━━━━━━\u001b[0m\u001b[37m\u001b[0m \u001b[1m29s\u001b[0m 37ms/step - accuracy: 0.6517 - loss: 0.9970 - val_accuracy: 0.6983 - val_loss: 0.8782\n",
            "Epoch 7/30\n",
            "\u001b[1m782/782\u001b[0m \u001b[32m━━━━━━━━━━━━━━━━━━━━\u001b[0m\u001b[37m\u001b[0m \u001b[1m29s\u001b[0m 37ms/step - accuracy: 0.6652 - loss: 0.9469 - val_accuracy: 0.6969 - val_loss: 0.8968\n",
            "Epoch 8/30\n",
            "\u001b[1m782/782\u001b[0m \u001b[32m━━━━━━━━━━━━━━━━━━━━\u001b[0m\u001b[37m\u001b[0m \u001b[1m30s\u001b[0m 38ms/step - accuracy: 0.6717 - loss: 0.9347 - val_accuracy: 0.6869 - val_loss: 0.9305\n",
            "Epoch 9/30\n",
            "\u001b[1m782/782\u001b[0m \u001b[32m━━━━━━━━━━━━━━━━━━━━\u001b[0m\u001b[37m\u001b[0m \u001b[1m29s\u001b[0m 37ms/step - accuracy: 0.6852 - loss: 0.8985 - val_accuracy: 0.7181 - val_loss: 0.8242\n",
            "Epoch 10/30\n",
            "\u001b[1m782/782\u001b[0m \u001b[32m━━━━━━━━━━━━━━━━━━━━\u001b[0m\u001b[37m\u001b[0m \u001b[1m30s\u001b[0m 39ms/step - accuracy: 0.6946 - loss: 0.8727 - val_accuracy: 0.7073 - val_loss: 0.8520\n",
            "Epoch 11/30\n",
            "\u001b[1m782/782\u001b[0m \u001b[32m━━━━━━━━━━━━━━━━━━━━\u001b[0m\u001b[37m\u001b[0m \u001b[1m39s\u001b[0m 37ms/step - accuracy: 0.7060 - loss: 0.8380 - val_accuracy: 0.7275 - val_loss: 0.7932\n",
            "Epoch 12/30\n",
            "\u001b[1m782/782\u001b[0m \u001b[32m━━━━━━━━━━━━━━━━━━━━\u001b[0m\u001b[37m\u001b[0m \u001b[1m29s\u001b[0m 38ms/step - accuracy: 0.7082 - loss: 0.8298 - val_accuracy: 0.7206 - val_loss: 0.8102\n",
            "Epoch 13/30\n",
            "\u001b[1m782/782\u001b[0m \u001b[32m━━━━━━━━━━━━━━━━━━━━\u001b[0m\u001b[37m\u001b[0m \u001b[1m29s\u001b[0m 38ms/step - accuracy: 0.7124 - loss: 0.8174 - val_accuracy: 0.7317 - val_loss: 0.7861\n",
            "Epoch 14/30\n",
            "\u001b[1m782/782\u001b[0m \u001b[32m━━━━━━━━━━━━━━━━━━━━\u001b[0m\u001b[37m\u001b[0m \u001b[1m41s\u001b[0m 37ms/step - accuracy: 0.7220 - loss: 0.7984 - val_accuracy: 0.7277 - val_loss: 0.7878\n",
            "Epoch 15/30\n",
            "\u001b[1m782/782\u001b[0m \u001b[32m━━━━━━━━━━━━━━━━━━━━\u001b[0m\u001b[37m\u001b[0m \u001b[1m42s\u001b[0m 38ms/step - accuracy: 0.7249 - loss: 0.7856 - val_accuracy: 0.7433 - val_loss: 0.7634\n",
            "Epoch 16/30\n",
            "\u001b[1m782/782\u001b[0m \u001b[32m━━━━━━━━━━━━━━━━━━━━\u001b[0m\u001b[37m\u001b[0m \u001b[1m30s\u001b[0m 38ms/step - accuracy: 0.7279 - loss: 0.7677 - val_accuracy: 0.7435 - val_loss: 0.7595\n",
            "Epoch 17/30\n",
            "\u001b[1m782/782\u001b[0m \u001b[32m━━━━━━━━━━━━━━━━━━━━\u001b[0m\u001b[37m\u001b[0m \u001b[1m29s\u001b[0m 37ms/step - accuracy: 0.7355 - loss: 0.7573 - val_accuracy: 0.7527 - val_loss: 0.7469\n",
            "Epoch 18/30\n",
            "\u001b[1m782/782\u001b[0m \u001b[32m━━━━━━━━━━━━━━━━━━━━\u001b[0m\u001b[37m\u001b[0m \u001b[1m29s\u001b[0m 37ms/step - accuracy: 0.7390 - loss: 0.7532 - val_accuracy: 0.7520 - val_loss: 0.7412\n",
            "Epoch 19/30\n",
            "\u001b[1m782/782\u001b[0m \u001b[32m━━━━━━━━━━━━━━━━━━━━\u001b[0m\u001b[37m\u001b[0m \u001b[1m30s\u001b[0m 38ms/step - accuracy: 0.7385 - loss: 0.7431 - val_accuracy: 0.7147 - val_loss: 0.8479\n",
            "Epoch 20/30\n",
            "\u001b[1m782/782\u001b[0m \u001b[32m━━━━━━━━━━━━━━━━━━━━\u001b[0m\u001b[37m\u001b[0m \u001b[1m42s\u001b[0m 39ms/step - accuracy: 0.7447 - loss: 0.7268 - val_accuracy: 0.7399 - val_loss: 0.7651\n",
            "Epoch 21/30\n",
            "\u001b[1m782/782\u001b[0m \u001b[32m━━━━━━━━━━━━━━━━━━━━\u001b[0m\u001b[37m\u001b[0m \u001b[1m29s\u001b[0m 37ms/step - accuracy: 0.7472 - loss: 0.7230 - val_accuracy: 0.7428 - val_loss: 0.7727\n",
            "Epoch 22/30\n",
            "\u001b[1m782/782\u001b[0m \u001b[32m━━━━━━━━━━━━━━━━━━━━\u001b[0m\u001b[37m\u001b[0m \u001b[1m29s\u001b[0m 37ms/step - accuracy: 0.7534 - loss: 0.7100 - val_accuracy: 0.7327 - val_loss: 0.8036\n",
            "Epoch 23/30\n",
            "\u001b[1m782/782\u001b[0m \u001b[32m━━━━━━━━━━━━━━━━━━━━\u001b[0m\u001b[37m\u001b[0m \u001b[1m31s\u001b[0m 40ms/step - accuracy: 0.7580 - loss: 0.6939 - val_accuracy: 0.7592 - val_loss: 0.7215\n",
            "Epoch 24/30\n",
            "\u001b[1m782/782\u001b[0m \u001b[32m━━━━━━━━━━━━━━━━━━━━\u001b[0m\u001b[37m\u001b[0m \u001b[1m39s\u001b[0m 37ms/step - accuracy: 0.7616 - loss: 0.6862 - val_accuracy: 0.7325 - val_loss: 0.8283\n",
            "Epoch 25/30\n",
            "\u001b[1m782/782\u001b[0m \u001b[32m━━━━━━━━━━━━━━━━━━━━\u001b[0m\u001b[37m\u001b[0m \u001b[1m29s\u001b[0m 38ms/step - accuracy: 0.7581 - loss: 0.6847 - val_accuracy: 0.7663 - val_loss: 0.6983\n",
            "Epoch 26/30\n",
            "\u001b[1m782/782\u001b[0m \u001b[32m━━━━━━━━━━━━━━━━━━━━\u001b[0m\u001b[37m\u001b[0m \u001b[1m42s\u001b[0m 39ms/step - accuracy: 0.7585 - loss: 0.6892 - val_accuracy: 0.7637 - val_loss: 0.7143\n",
            "Epoch 27/30\n",
            "\u001b[1m782/782\u001b[0m \u001b[32m━━━━━━━━━━━━━━━━━━━━\u001b[0m\u001b[37m\u001b[0m \u001b[1m29s\u001b[0m 37ms/step - accuracy: 0.7674 - loss: 0.6621 - val_accuracy: 0.7494 - val_loss: 0.7570\n",
            "Epoch 28/30\n",
            "\u001b[1m782/782\u001b[0m \u001b[32m━━━━━━━━━━━━━━━━━━━━\u001b[0m\u001b[37m\u001b[0m \u001b[1m29s\u001b[0m 37ms/step - accuracy: 0.7657 - loss: 0.6657 - val_accuracy: 0.7670 - val_loss: 0.7034\n",
            "Epoch 29/30\n",
            "\u001b[1m782/782\u001b[0m \u001b[32m━━━━━━━━━━━━━━━━━━━━\u001b[0m\u001b[37m\u001b[0m \u001b[1m43s\u001b[0m 40ms/step - accuracy: 0.7679 - loss: 0.6573 - val_accuracy: 0.7664 - val_loss: 0.7139\n",
            "Epoch 30/30\n",
            "\u001b[1m782/782\u001b[0m \u001b[32m━━━━━━━━━━━━━━━━━━━━\u001b[0m\u001b[37m\u001b[0m \u001b[1m30s\u001b[0m 38ms/step - accuracy: 0.7729 - loss: 0.6481 - val_accuracy: 0.7609 - val_loss: 0.7348\n",
            "💾 Model is saved to drive/MyDrive/ML-practice/computer-vision/model_10_scratch_cnn.keras\n",
            "💾 History is saved to drive/MyDrive/ML-practice/computer-vision/model_10_scratch_cnn_history.json\n"
          ]
        }
      ],
      "source": [
        "model_config = ModelConfigCCNScratch(\n",
        "    model_name=\"model_10_scratch_cnn\",\n",
        "    dense_layers=[128],\n",
        ")\n",
        "\n",
        "train_model_cnn_scratch(model_config=model_config)"
      ]
    },
    {
      "cell_type": "markdown",
      "metadata": {
        "id": "puYo1Zgt_V-U"
      },
      "source": [
        "### 1.11. Base without datagen"
      ]
    },
    {
      "cell_type": "code",
      "execution_count": 38,
      "metadata": {
        "colab": {
          "base_uri": "https://localhost:8080/"
        },
        "id": "swBCiehE_nyl",
        "outputId": "b5ddb1f7-1448-4014-fe92-764e80aa9efa"
      },
      "outputs": [
        {
          "name": "stdout",
          "output_type": "stream",
          "text": [
            "⚠️ Could not load model or history: File not found: filepath=drive/MyDrive/ML-practice/computer-vision/model_11_scratch_cnn.keras. Please ensure the file is an accessible `.keras` zip file.\n",
            "Epoch 1/30\n",
            "\u001b[1m1563/1563\u001b[0m \u001b[32m━━━━━━━━━━━━━━━━━━━━\u001b[0m\u001b[37m\u001b[0m \u001b[1m11s\u001b[0m 6ms/step - accuracy: 0.3875 - loss: 1.6826 - val_accuracy: 0.5625 - val_loss: 1.2233\n",
            "Epoch 2/30\n",
            "\u001b[1m1563/1563\u001b[0m \u001b[32m━━━━━━━━━━━━━━━━━━━━\u001b[0m\u001b[37m\u001b[0m \u001b[1m7s\u001b[0m 5ms/step - accuracy: 0.6033 - loss: 1.1325 - val_accuracy: 0.6265 - val_loss: 1.0662\n",
            "Epoch 3/30\n",
            "\u001b[1m1563/1563\u001b[0m \u001b[32m━━━━━━━━━━━━━━━━━━━━\u001b[0m\u001b[37m\u001b[0m \u001b[1m11s\u001b[0m 5ms/step - accuracy: 0.6606 - loss: 0.9835 - val_accuracy: 0.6607 - val_loss: 0.9880\n",
            "Epoch 4/30\n",
            "\u001b[1m1563/1563\u001b[0m \u001b[32m━━━━━━━━━━━━━━━━━━━━\u001b[0m\u001b[37m\u001b[0m \u001b[1m7s\u001b[0m 4ms/step - accuracy: 0.6888 - loss: 0.9031 - val_accuracy: 0.6789 - val_loss: 0.9340\n",
            "Epoch 5/30\n",
            "\u001b[1m1563/1563\u001b[0m \u001b[32m━━━━━━━━━━━━━━━━━━━━\u001b[0m\u001b[37m\u001b[0m \u001b[1m8s\u001b[0m 5ms/step - accuracy: 0.7141 - loss: 0.8268 - val_accuracy: 0.6860 - val_loss: 0.9118\n",
            "Epoch 6/30\n",
            "\u001b[1m1563/1563\u001b[0m \u001b[32m━━━━━━━━━━━━━━━━━━━━\u001b[0m\u001b[37m\u001b[0m \u001b[1m7s\u001b[0m 4ms/step - accuracy: 0.7378 - loss: 0.7633 - val_accuracy: 0.6865 - val_loss: 0.9275\n",
            "Epoch 7/30\n",
            "\u001b[1m1563/1563\u001b[0m \u001b[32m━━━━━━━━━━━━━━━━━━━━\u001b[0m\u001b[37m\u001b[0m \u001b[1m8s\u001b[0m 5ms/step - accuracy: 0.7503 - loss: 0.7148 - val_accuracy: 0.6812 - val_loss: 0.9398\n",
            "Epoch 8/30\n",
            "\u001b[1m1563/1563\u001b[0m \u001b[32m━━━━━━━━━━━━━━━━━━━━\u001b[0m\u001b[37m\u001b[0m \u001b[1m7s\u001b[0m 5ms/step - accuracy: 0.7676 - loss: 0.6683 - val_accuracy: 0.6877 - val_loss: 0.9260\n",
            "Epoch 9/30\n",
            "\u001b[1m1563/1563\u001b[0m \u001b[32m━━━━━━━━━━━━━━━━━━━━\u001b[0m\u001b[37m\u001b[0m \u001b[1m7s\u001b[0m 5ms/step - accuracy: 0.7831 - loss: 0.6249 - val_accuracy: 0.6934 - val_loss: 0.9268\n",
            "Epoch 10/30\n",
            "\u001b[1m1563/1563\u001b[0m \u001b[32m━━━━━━━━━━━━━━━━━━━━\u001b[0m\u001b[37m\u001b[0m \u001b[1m7s\u001b[0m 5ms/step - accuracy: 0.7947 - loss: 0.5866 - val_accuracy: 0.7003 - val_loss: 0.9088\n",
            "Epoch 11/30\n",
            "\u001b[1m1563/1563\u001b[0m \u001b[32m━━━━━━━━━━━━━━━━━━━━\u001b[0m\u001b[37m\u001b[0m \u001b[1m7s\u001b[0m 4ms/step - accuracy: 0.8082 - loss: 0.5517 - val_accuracy: 0.7061 - val_loss: 0.9231\n",
            "Epoch 12/30\n",
            "\u001b[1m1563/1563\u001b[0m \u001b[32m━━━━━━━━━━━━━━━━━━━━\u001b[0m\u001b[37m\u001b[0m \u001b[1m8s\u001b[0m 5ms/step - accuracy: 0.8140 - loss: 0.5269 - val_accuracy: 0.6980 - val_loss: 0.9823\n",
            "Epoch 13/30\n",
            "\u001b[1m1563/1563\u001b[0m \u001b[32m━━━━━━━━━━━━━━━━━━━━\u001b[0m\u001b[37m\u001b[0m \u001b[1m10s\u001b[0m 5ms/step - accuracy: 0.8299 - loss: 0.4901 - val_accuracy: 0.6932 - val_loss: 1.0076\n",
            "Epoch 14/30\n",
            "\u001b[1m1563/1563\u001b[0m \u001b[32m━━━━━━━━━━━━━━━━━━━━\u001b[0m\u001b[37m\u001b[0m \u001b[1m7s\u001b[0m 4ms/step - accuracy: 0.8383 - loss: 0.4617 - val_accuracy: 0.6953 - val_loss: 1.0246\n",
            "Epoch 15/30\n",
            "\u001b[1m1563/1563\u001b[0m \u001b[32m━━━━━━━━━━━━━━━━━━━━\u001b[0m\u001b[37m\u001b[0m \u001b[1m11s\u001b[0m 5ms/step - accuracy: 0.8502 - loss: 0.4244 - val_accuracy: 0.6977 - val_loss: 1.0244\n",
            "💾 Model is saved to drive/MyDrive/ML-practice/computer-vision/model_11_scratch_cnn.keras\n",
            "💾 History is saved to drive/MyDrive/ML-practice/computer-vision/model_11_scratch_cnn_history.json\n"
          ]
        }
      ],
      "source": [
        "model_config = ModelConfigCCNScratch(\n",
        "    model_name=\"model_11_scratch_cnn\",\n",
        "    datagen=None,\n",
        ")\n",
        "\n",
        "train_model_cnn_scratch(model_config=model_config)"
      ]
    },
    {
      "cell_type": "markdown",
      "metadata": {
        "id": "4ha_5SpK_Vqb"
      },
      "source": [
        "### 1.12. Base with"
      ]
    },
    {
      "cell_type": "code",
      "execution_count": 39,
      "metadata": {
        "id": "5dYC-phQ_VdC"
      },
      "outputs": [],
      "source": [
        "# model_config = ModelConfigCCNScratch(\n",
        "#     model_name=\"model_12_scratch_cnn\",\n",
        "# )\n",
        "\n",
        "# train_model_cnn_scratch(model_config=model_config)"
      ]
    },
    {
      "cell_type": "markdown",
      "metadata": {
        "id": "4uiYwVEj0R2B"
      },
      "source": [
        "### 1.13. Base with"
      ]
    },
    {
      "cell_type": "code",
      "execution_count": 40,
      "metadata": {
        "id": "6LWuharzU9yC"
      },
      "outputs": [],
      "source": [
        "# model_config = ModelConfigCCNScratch(\n",
        "#     model_name=\"model_13_scratch_cnn\",\n",
        "#     conv_layers=[(32, 5, 5), (64, 5, 5)],\n",
        "# )\n",
        "\n",
        "# train_model_cnn_scratch(model_config=model_config)"
      ]
    },
    {
      "cell_type": "markdown",
      "metadata": {
        "id": "ZiGkeRMMHyeK"
      },
      "source": [
        "# Evaluate all models"
      ]
    },
    {
      "cell_type": "code",
      "execution_count": 41,
      "metadata": {
        "colab": {
          "base_uri": "https://localhost:8080/"
        },
        "id": "HiIwDOziHyeK",
        "outputId": "6456d8d8-c48f-49ce-ef97-bf0b635b2d7d"
      },
      "outputs": [
        {
          "name": "stdout",
          "output_type": "stream",
          "text": [
            "\n",
            "MODEL: model_1_scratch_cnn\n",
            "\n",
            "    Model with 2 conv layers and 1 dense layers.\n",
            "    Data augmentation: true.\n",
            "    Activation function: relu.\n",
            "    Optimizer: adam.\n",
            "    Loss function: categorical_crossentropy.\n",
            "    Metrics: ['accuracy'].\n",
            "     \n",
            "\n",
            "\u001b[1m313/313\u001b[0m \u001b[32m━━━━━━━━━━━━━━━━━━━━\u001b[0m\u001b[37m\u001b[0m \u001b[1m1s\u001b[0m 2ms/step\n",
            "              precision    recall  f1-score   support\n",
            "\n",
            "           0       0.75      0.75      0.75      1000\n",
            "           1       0.87      0.83      0.85      1000\n",
            "           2       0.70      0.53      0.60      1000\n",
            "           3       0.56      0.48      0.52      1000\n",
            "           4       0.66      0.68      0.67      1000\n",
            "           5       0.64      0.62      0.63      1000\n",
            "           6       0.69      0.86      0.77      1000\n",
            "           7       0.72      0.81      0.76      1000\n",
            "           8       0.82      0.82      0.82      1000\n",
            "           9       0.79      0.83      0.81      1000\n",
            "\n",
            "    accuracy                           0.72     10000\n",
            "   macro avg       0.72      0.72      0.72     10000\n",
            "weighted avg       0.72      0.72      0.72     10000\n",
            "\n",
            "-------------------------------------------------------------------\n",
            "\n",
            "MODEL: model_2_scratch_cnn\n",
            "\n",
            "    Model with 3 conv layers and 1 dense layers.\n",
            "    Data augmentation: true.\n",
            "    Activation function: relu.\n",
            "    Optimizer: adam.\n",
            "    Loss function: categorical_crossentropy.\n",
            "    Metrics: ['accuracy'].\n",
            "     \n",
            "\n",
            "\u001b[1m313/313\u001b[0m \u001b[32m━━━━━━━━━━━━━━━━━━━━\u001b[0m\u001b[37m\u001b[0m \u001b[1m1s\u001b[0m 3ms/step\n",
            "              precision    recall  f1-score   support\n",
            "\n",
            "           0       0.79      0.77      0.78      1000\n",
            "           1       0.84      0.88      0.86      1000\n",
            "           2       0.70      0.65      0.67      1000\n",
            "           3       0.67      0.51      0.58      1000\n",
            "           4       0.78      0.64      0.70      1000\n",
            "           5       0.73      0.63      0.68      1000\n",
            "           6       0.77      0.87      0.82      1000\n",
            "           7       0.66      0.88      0.75      1000\n",
            "           8       0.83      0.86      0.85      1000\n",
            "           9       0.77      0.84      0.80      1000\n",
            "\n",
            "    accuracy                           0.75     10000\n",
            "   macro avg       0.75      0.75      0.75     10000\n",
            "weighted avg       0.75      0.75      0.75     10000\n",
            "\n",
            "-------------------------------------------------------------------\n",
            "\n",
            "MODEL: model_3_scratch_cnn\n",
            "\n",
            "    Model with 1 conv layers and 1 dense layers.\n",
            "    Data augmentation: true.\n",
            "    Activation function: relu.\n",
            "    Optimizer: adam.\n",
            "    Loss function: categorical_crossentropy.\n",
            "    Metrics: ['accuracy'].\n",
            "     \n",
            "\n",
            "\u001b[1m313/313\u001b[0m \u001b[32m━━━━━━━━━━━━━━━━━━━━\u001b[0m\u001b[37m\u001b[0m \u001b[1m1s\u001b[0m 2ms/step\n",
            "              precision    recall  f1-score   support\n",
            "\n",
            "           0       0.72      0.63      0.67      1000\n",
            "           1       0.74      0.77      0.76      1000\n",
            "           2       0.62      0.38      0.48      1000\n",
            "           3       0.55      0.30      0.39      1000\n",
            "           4       0.51      0.69      0.58      1000\n",
            "           5       0.66      0.44      0.53      1000\n",
            "           6       0.59      0.81      0.68      1000\n",
            "           7       0.67      0.73      0.70      1000\n",
            "           8       0.71      0.77      0.74      1000\n",
            "           9       0.59      0.80      0.68      1000\n",
            "\n",
            "    accuracy                           0.63     10000\n",
            "   macro avg       0.64      0.63      0.62     10000\n",
            "weighted avg       0.64      0.63      0.62     10000\n",
            "\n",
            "-------------------------------------------------------------------\n",
            "\n",
            "MODEL: model_4_scratch_cnn\n",
            "\n",
            "    Model with 2 conv layers and 1 dense layers.\n",
            "    Data augmentation: true.\n",
            "    Activation function: relu.\n",
            "    Optimizer: adam.\n",
            "    Loss function: categorical_crossentropy.\n",
            "    Metrics: ['accuracy'].\n",
            "     \n",
            "\n",
            "\u001b[1m313/313\u001b[0m \u001b[32m━━━━━━━━━━━━━━━━━━━━\u001b[0m\u001b[37m\u001b[0m \u001b[1m2s\u001b[0m 4ms/step\n",
            "              precision    recall  f1-score   support\n",
            "\n",
            "           0       0.74      0.78      0.76      1000\n",
            "           1       0.83      0.87      0.85      1000\n",
            "           2       0.77      0.45      0.57      1000\n",
            "           3       0.52      0.55      0.54      1000\n",
            "           4       0.71      0.59      0.65      1000\n",
            "           5       0.70      0.55      0.62      1000\n",
            "           6       0.66      0.87      0.75      1000\n",
            "           7       0.72      0.80      0.76      1000\n",
            "           8       0.81      0.87      0.84      1000\n",
            "           9       0.76      0.84      0.80      1000\n",
            "\n",
            "    accuracy                           0.72     10000\n",
            "   macro avg       0.72      0.72      0.71     10000\n",
            "weighted avg       0.72      0.72      0.71     10000\n",
            "\n",
            "-------------------------------------------------------------------\n",
            "\n",
            "MODEL: model_5_scratch_cnn\n",
            "\n",
            "    Model with 2 conv layers and 1 dense layers.\n",
            "    Data augmentation: true.\n",
            "    Activation function: tanh.\n",
            "    Optimizer: adam.\n",
            "    Loss function: categorical_crossentropy.\n",
            "    Metrics: ['accuracy'].\n",
            "     \n",
            "\n",
            "\u001b[1m313/313\u001b[0m \u001b[32m━━━━━━━━━━━━━━━━━━━━\u001b[0m\u001b[37m\u001b[0m \u001b[1m1s\u001b[0m 3ms/step\n",
            "              precision    recall  f1-score   support\n",
            "\n",
            "           0       0.68      0.79      0.73      1000\n",
            "           1       0.77      0.87      0.82      1000\n",
            "           2       0.67      0.56      0.61      1000\n",
            "           3       0.66      0.40      0.50      1000\n",
            "           4       0.73      0.57      0.64      1000\n",
            "           5       0.67      0.58      0.62      1000\n",
            "           6       0.69      0.85      0.76      1000\n",
            "           7       0.63      0.86      0.73      1000\n",
            "           8       0.83      0.79      0.81      1000\n",
            "           9       0.77      0.80      0.78      1000\n",
            "\n",
            "    accuracy                           0.71     10000\n",
            "   macro avg       0.71      0.71      0.70     10000\n",
            "weighted avg       0.71      0.71      0.70     10000\n",
            "\n",
            "-------------------------------------------------------------------\n",
            "\n",
            "MODEL: model_6_scratch_cnn\n",
            "\n",
            "    Model with 2 conv layers and 1 dense layers.\n",
            "    Data augmentation: true.\n",
            "    Activation function: leaky_relu.\n",
            "    Optimizer: adam.\n",
            "    Loss function: categorical_crossentropy.\n",
            "    Metrics: ['accuracy'].\n",
            "     \n",
            "\n",
            "\u001b[1m313/313\u001b[0m \u001b[32m━━━━━━━━━━━━━━━━━━━━\u001b[0m\u001b[37m\u001b[0m \u001b[1m1s\u001b[0m 3ms/step\n",
            "              precision    recall  f1-score   support\n",
            "\n",
            "           0       0.71      0.86      0.78      1000\n",
            "           1       0.89      0.87      0.88      1000\n",
            "           2       0.75      0.59      0.66      1000\n",
            "           3       0.66      0.53      0.59      1000\n",
            "           4       0.70      0.73      0.72      1000\n",
            "           5       0.74      0.66      0.70      1000\n",
            "           6       0.81      0.84      0.83      1000\n",
            "           7       0.73      0.85      0.78      1000\n",
            "           8       0.90      0.77      0.83      1000\n",
            "           9       0.74      0.91      0.82      1000\n",
            "\n",
            "    accuracy                           0.76     10000\n",
            "   macro avg       0.76      0.76      0.76     10000\n",
            "weighted avg       0.76      0.76      0.76     10000\n",
            "\n",
            "-------------------------------------------------------------------\n",
            "\n",
            "MODEL: model_7_scratch_cnn\n",
            "\n",
            "    Model with 2 conv layers and 1 dense layers.\n",
            "    Data augmentation: true.\n",
            "    Activation function: relu.\n",
            "    Optimizer: sgd.\n",
            "    Loss function: categorical_crossentropy.\n",
            "    Metrics: ['accuracy'].\n",
            "     \n",
            "\n",
            "\u001b[1m313/313\u001b[0m \u001b[32m━━━━━━━━━━━━━━━━━━━━\u001b[0m\u001b[37m\u001b[0m \u001b[1m1s\u001b[0m 3ms/step\n",
            "              precision    recall  f1-score   support\n",
            "\n",
            "           0       0.69      0.76      0.72      1000\n",
            "           1       0.68      0.87      0.77      1000\n",
            "           2       0.69      0.47      0.55      1000\n",
            "           3       0.54      0.49      0.51      1000\n",
            "           4       0.69      0.56      0.62      1000\n",
            "           5       0.59      0.60      0.60      1000\n",
            "           6       0.75      0.74      0.75      1000\n",
            "           7       0.68      0.77      0.72      1000\n",
            "           8       0.81      0.75      0.78      1000\n",
            "           9       0.66      0.76      0.71      1000\n",
            "\n",
            "    accuracy                           0.68     10000\n",
            "   macro avg       0.68      0.68      0.67     10000\n",
            "weighted avg       0.68      0.68      0.67     10000\n",
            "\n",
            "-------------------------------------------------------------------\n",
            "\n",
            "MODEL: model_8_scratch_cnn\n",
            "\n",
            "    Model with 2 conv layers and 1 dense layers.\n",
            "    Data augmentation: true.\n",
            "    Activation function: relu.\n",
            "    Optimizer: adam.\n",
            "    Loss function: sparse_categorical_crossentropy.\n",
            "    Metrics: ['accuracy'].\n",
            "     \n",
            "\n",
            "\u001b[1m313/313\u001b[0m \u001b[32m━━━━━━━━━━━━━━━━━━━━\u001b[0m\u001b[37m\u001b[0m \u001b[1m1s\u001b[0m 2ms/step\n",
            "              precision    recall  f1-score   support\n",
            "\n",
            "           0       0.72      0.82      0.77      1000\n",
            "           1       0.86      0.84      0.85      1000\n",
            "           2       0.68      0.60      0.63      1000\n",
            "           3       0.58      0.55      0.56      1000\n",
            "           4       0.75      0.59      0.66      1000\n",
            "           5       0.65      0.66      0.66      1000\n",
            "           6       0.76      0.84      0.80      1000\n",
            "           7       0.70      0.83      0.76      1000\n",
            "           8       0.89      0.77      0.83      1000\n",
            "           9       0.78      0.84      0.81      1000\n",
            "\n",
            "    accuracy                           0.73     10000\n",
            "   macro avg       0.74      0.73      0.73     10000\n",
            "weighted avg       0.74      0.73      0.73     10000\n",
            "\n",
            "-------------------------------------------------------------------\n",
            "\n",
            "MODEL: model_9_scratch_cnn\n",
            "\n",
            "    Model with 2 conv layers and 1 dense layers.\n",
            "    Data augmentation: true.\n",
            "    Activation function: relu.\n",
            "    Optimizer: adam.\n",
            "    Loss function: categorical_crossentropy.\n",
            "    Metrics: ['accuracy'].\n",
            "     \n",
            "\n",
            "\u001b[1m313/313\u001b[0m \u001b[32m━━━━━━━━━━━━━━━━━━━━\u001b[0m\u001b[37m\u001b[0m \u001b[1m1s\u001b[0m 2ms/step\n",
            "              precision    recall  f1-score   support\n",
            "\n",
            "           0       0.71      0.81      0.76      1000\n",
            "           1       0.77      0.89      0.82      1000\n",
            "           2       0.68      0.56      0.61      1000\n",
            "           3       0.63      0.50      0.56      1000\n",
            "           4       0.74      0.57      0.64      1000\n",
            "           5       0.68      0.64      0.65      1000\n",
            "           6       0.72      0.84      0.77      1000\n",
            "           7       0.66      0.84      0.74      1000\n",
            "           8       0.87      0.74      0.80      1000\n",
            "           9       0.75      0.82      0.78      1000\n",
            "\n",
            "    accuracy                           0.72     10000\n",
            "   macro avg       0.72      0.72      0.71     10000\n",
            "weighted avg       0.72      0.72      0.71     10000\n",
            "\n",
            "-------------------------------------------------------------------\n",
            "\n",
            "MODEL: model_10_scratch_cnn\n",
            "\n",
            "    Model with 2 conv layers and 1 dense layers.\n",
            "    Data augmentation: true.\n",
            "    Activation function: relu.\n",
            "    Optimizer: adam.\n",
            "    Loss function: categorical_crossentropy.\n",
            "    Metrics: ['accuracy'].\n",
            "     \n",
            "\n",
            "\u001b[1m313/313\u001b[0m \u001b[32m━━━━━━━━━━━━━━━━━━━━\u001b[0m\u001b[37m\u001b[0m \u001b[1m1s\u001b[0m 3ms/step\n",
            "              precision    recall  f1-score   support\n",
            "\n",
            "           0       0.83      0.77      0.80      1000\n",
            "           1       0.87      0.86      0.87      1000\n",
            "           2       0.79      0.60      0.68      1000\n",
            "           3       0.65      0.55      0.60      1000\n",
            "           4       0.73      0.74      0.73      1000\n",
            "           5       0.67      0.70      0.69      1000\n",
            "           6       0.78      0.85      0.81      1000\n",
            "           7       0.79      0.84      0.82      1000\n",
            "           8       0.86      0.84      0.85      1000\n",
            "           9       0.71      0.90      0.80      1000\n",
            "\n",
            "    accuracy                           0.77     10000\n",
            "   macro avg       0.77      0.77      0.76     10000\n",
            "weighted avg       0.77      0.77      0.76     10000\n",
            "\n",
            "-------------------------------------------------------------------\n",
            "\n",
            "MODEL: model_11_scratch_cnn\n",
            "\n",
            "    Model with 2 conv layers and 1 dense layers.\n",
            "    Data augmentation: false.\n",
            "    Activation function: relu.\n",
            "    Optimizer: adam.\n",
            "    Loss function: categorical_crossentropy.\n",
            "    Metrics: ['accuracy'].\n",
            "     \n",
            "\n",
            "\u001b[1m313/313\u001b[0m \u001b[32m━━━━━━━━━━━━━━━━━━━━\u001b[0m\u001b[37m\u001b[0m \u001b[1m1s\u001b[0m 2ms/step\n",
            "              precision    recall  f1-score   support\n",
            "\n",
            "           0       0.71      0.74      0.73      1000\n",
            "           1       0.78      0.85      0.81      1000\n",
            "           2       0.56      0.60      0.58      1000\n",
            "           3       0.57      0.48      0.52      1000\n",
            "           4       0.63      0.70      0.67      1000\n",
            "           5       0.62      0.61      0.61      1000\n",
            "           6       0.80      0.74      0.77      1000\n",
            "           7       0.81      0.67      0.73      1000\n",
            "           8       0.77      0.82      0.79      1000\n",
            "           9       0.76      0.79      0.77      1000\n",
            "\n",
            "    accuracy                           0.70     10000\n",
            "   macro avg       0.70      0.70      0.70     10000\n",
            "weighted avg       0.70      0.70      0.70     10000\n",
            "\n",
            "-------------------------------------------------------------------\n"
          ]
        }
      ],
      "source": [
        "for model, model_name, model_description in models_to_evaluate:\n",
        "    print_general_metrics(\n",
        "        model=model,\n",
        "        model_name=model_name,\n",
        "        model_description=model_description,\n",
        "        to_print_model_summary = False,\n",
        "        to_print_classification_report = True,\n",
        "        to_plot_confusion_matrix = False,\n",
        "      )\n"
      ]
    },
    {
      "cell_type": "code",
      "execution_count": 41,
      "metadata": {
        "id": "Wo10wCyfJN3s"
      },
      "outputs": [],
      "source": []
    }
  ],
  "metadata": {
    "accelerator": "GPU",
    "colab": {
      "gpuType": "T4",
      "provenance": [],
      "toc_visible": true
    },
    "kernelspec": {
      "display_name": "venv-ds",
      "language": "python",
      "name": "python3"
    },
    "language_info": {
      "codemirror_mode": {
        "name": "ipython",
        "version": 3
      },
      "file_extension": ".py",
      "mimetype": "text/x-python",
      "name": "python",
      "nbconvert_exporter": "python",
      "pygments_lexer": "ipython3",
      "version": "3.12.9"
    }
  },
  "nbformat": 4,
  "nbformat_minor": 0
}
