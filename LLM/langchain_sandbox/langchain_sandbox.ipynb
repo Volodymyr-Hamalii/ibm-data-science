{
 "cells": [
  {
   "cell_type": "code",
   "execution_count": 1,
   "id": "bd5715ee-104b-4743-b855-65082ffe82b8",
   "metadata": {},
   "outputs": [
    {
     "data": {
      "text/plain": [
       "True"
      ]
     },
     "execution_count": 1,
     "metadata": {},
     "output_type": "execute_result"
    }
   ],
   "source": [
    "from dotenv import load_dotenv\n",
    "import os\n",
    "\n",
    "load_dotenv()"
   ]
  },
  {
   "cell_type": "code",
   "execution_count": 5,
   "id": "accfe4cd",
   "metadata": {},
   "outputs": [
    {
     "data": {
      "text/plain": [
       "AIMessage(content=\"Ukraine is a country located in Eastern Europe, bordered by Belarus to the north, Russia to the northeast and east, and the Black Sea to the south. It is the largest country in Europe by land area, excluding Russia, and has a rich history and diverse culture.\\n\\n### Geography\\nUkraine's landscape is characterized by fertile plains, plateaus, and mountains in the west (the Carpathians). The country has several major rivers, including the Dnieper, which flows through the capital city, Kyiv. The climate is temperate continental, with cold winters and warm summers.\\n\\n### History\\nUkraine has a complex history influenced by various cultures and empires. It was part of the Kievan Rus' in the 9th to 13th centuries, which is considered a cultural and political predecessor to modern Ukraine, Russia, and Belarus. Over the centuries, Ukraine has been ruled by various powers, including the Polish-Lithuanian Commonwealth, the Russian Empire, and the Soviet Union.\\n\\nUkraine declared independence from the Soviet Union on August 24, 1991, following a failed coup in Moscow. This independence was confirmed by a national referendum in December 1991, where over 90% of voters supported it.\\n\\n### Politics\\nUkraine is a unitary parliamentary republic. The political landscape has been marked by a struggle between pro-European and pro-Russian factions. The 2014 Euromaidan protests led to the ousting of President Viktor Yanukovych, who was seen as pro-Russian. This event was followed by Russia's annexation of Crimea and the outbreak of conflict in Eastern Ukraine, particularly in the Donetsk and Luhansk regions, where pro-Russian separatists declared independence.\\n\\n### Culture\\nUkrainian culture is rich and diverse, with influences from its history and neighboring countries. The country is known for its traditional music, dance, and art, as well as its cuisine, which includes dishes like borscht (beet soup), varenyky (dumplings), and holodets (meat jelly). The Ukrainian language is the official language, and there is a strong emphasis on national identity and cultural heritage.\\n\\n### Economy\\nUkraine has a mixed economy, with agriculture playing a significant role. It is one of the world's largest grain producers, particularly of wheat and corn. The country also has significant natural resources, including coal and natural gas. However, the economy has faced challenges, including corruption, political instability, and the impact of the ongoing conflict in the east.\\n\\n### Recent Developments\\nAs of 2023, Ukraine continues to face significant challenges due to the ongoing conflict with Russia, which escalated in February 2022 when Russia launched a full-scale invasion. This has led to widespread humanitarian crises, economic difficulties, and significant international support for Ukraine from various countries and organizations.\\n\\nUkraine's resilience and efforts to integrate more closely with Western Europe have been notable, with aspirations for EU and NATO membership being central to its foreign policy. The situation remains dynamic, and the international community continues to monitor developments closely.\", additional_kwargs={'refusal': None}, response_metadata={'token_usage': {'completion_tokens': 617, 'prompt_tokens': 12, 'total_tokens': 629, 'completion_tokens_details': {'accepted_prediction_tokens': 0, 'audio_tokens': 0, 'reasoning_tokens': 0, 'rejected_prediction_tokens': 0}, 'prompt_tokens_details': {'audio_tokens': 0, 'cached_tokens': 0}}, 'model_name': 'gpt-4o-mini-2024-07-18', 'system_fingerprint': 'fp_34a54ae93c', 'id': 'chatcmpl-C32Cl7u4HasEzypz45qpiW1VIFUrP', 'service_tier': 'default', 'finish_reason': 'stop', 'logprobs': None}, id='run--c6088148-614e-4b7e-95f5-bf784c8b695e-0', usage_metadata={'input_tokens': 12, 'output_tokens': 617, 'total_tokens': 629, 'input_token_details': {'audio': 0, 'cache_read': 0}, 'output_token_details': {'audio': 0, 'reasoning': 0}})"
      ]
     },
     "execution_count": 5,
     "metadata": {},
     "output_type": "execute_result"
    }
   ],
   "source": [
    "from langchain_openai import ChatOpenAI\n",
    "\n",
    "chat_model = ChatOpenAI(\n",
    "    model=\"gpt-4o-mini\",\n",
    "    temperature=0,\n",
    "    # api_key=settings.OPENAI_API_KEY, # type: ignore\n",
    ")\n",
    "\n",
    "response = chat_model.invoke(\"Tell me about Ukraine.\")\n",
    "response"
   ]
  },
  {
   "cell_type": "code",
   "execution_count": 7,
   "id": "101e90ba",
   "metadata": {},
   "outputs": [
    {
     "name": "stdout",
     "output_type": "stream",
     "text": [
      "Ukraine is a country located in Eastern Europe, bordered by Belarus to the north, Russia to the northeast and east, and the Black Sea to the south. It is the largest country in Europe by land area, excluding Russia, and has a rich history and diverse culture.\n",
      "\n",
      "### Geography\n",
      "Ukraine's landscape is characterized by fertile plains, plateaus, and mountains in the west (the Carpathians). The country has several major rivers, including the Dnieper, which flows through the capital city, Kyiv. The climate is temperate continental, with cold winters and warm summers.\n",
      "\n",
      "### History\n",
      "Ukraine has a complex history influenced by various cultures and empires. It was part of the Kievan Rus' in the 9th to 13th centuries, which is considered a cultural and political predecessor to modern Ukraine, Russia, and Belarus. Over the centuries, Ukraine has been ruled by various powers, including the Polish-Lithuanian Commonwealth, the Russian Empire, and the Soviet Union.\n",
      "\n",
      "Ukraine declared independence from the Soviet Union on August 24, 1991, following a failed coup in Moscow. This independence was confirmed by a national referendum in December 1991, where over 90% of voters supported it.\n",
      "\n",
      "### Politics\n",
      "Ukraine is a unitary parliamentary republic. The political landscape has been marked by a struggle between pro-European and pro-Russian factions. The 2014 Euromaidan protests led to the ousting of President Viktor Yanukovych, who was seen as pro-Russian. This event was followed by Russia's annexation of Crimea and the outbreak of conflict in Eastern Ukraine, particularly in the Donetsk and Luhansk regions, where pro-Russian separatists declared independence.\n",
      "\n",
      "### Culture\n",
      "Ukrainian culture is rich and diverse, with influences from its history and neighboring countries. The country is known for its traditional music, dance, and art, as well as its cuisine, which includes dishes like borscht (beet soup), varenyky (dumplings), and holodets (meat jelly). The Ukrainian language is the official language, and there is a strong emphasis on national identity and cultural heritage.\n",
      "\n",
      "### Economy\n",
      "Ukraine has a mixed economy, with agriculture playing a significant role. It is one of the world's largest grain producers, particularly of wheat and corn. The country also has significant natural resources, including coal and natural gas. However, the economy has faced challenges, including corruption, political instability, and the impact of the ongoing conflict in the east.\n",
      "\n",
      "### Recent Developments\n",
      "As of 2023, Ukraine continues to face significant challenges due to the ongoing conflict with Russia, which escalated in February 2022 when Russia launched a full-scale invasion. This has led to widespread humanitarian crises, economic difficulties, and significant international support for Ukraine from various countries and organizations.\n",
      "\n",
      "Ukraine's resilience and efforts to integrate more closely with Western Europe have been notable, with aspirations for EU and NATO membership being central to its foreign policy. The situation remains dynamic, and the international community continues to monitor developments closely.\n"
     ]
    }
   ],
   "source": [
    "print(response.content)"
   ]
  },
  {
   "cell_type": "code",
   "execution_count": 8,
   "id": "35baa9a3",
   "metadata": {},
   "outputs": [
    {
     "data": {
      "text/plain": [
       "AIMessage(content='Ukraine is a country located in Eastern Europe, bordered by Belarus to the north, Russia to the northeast and east, and the Black Sea to the south. It is the largest country in Europe by land area, excluding Russia, and has a rich history and diverse culture.\\n\\n### Geography\\n- **Capital**: Kyiv (also spelled Kiev), which is one of the oldest cities in Eastern Europe.\\n- **Major Cities**: Other significant cities include Kharkiv, Odesa, Lviv, and Dnipro.\\n- **Landscape**: Ukraine features a variety of landscapes, including plains, plateaus, and mountains, particularly in the west (the Carpathians).\\n\\n### History\\n- **Early History**: Ukraine has a long history that dates back to ancient times, with influences from various cultures, including the Scythians, Greeks, and Slavs.\\n- **Kievan Rus**: In the 9th century, the region was part of Kievan Rus, a federation of Slavic tribes that is considered a cultural and political predecessor to modern Ukraine, Russia, and Belarus.\\n- **Polish-Lithuanian Commonwealth**: In the 14th to 18th centuries, parts of Ukraine were under the control of the Polish-Lithuanian Commonwealth.\\n- **Russian Empire and Soviet Union**: In the late 18th century, much of Ukraine became part of the Russian Empire. After a brief period of independence following World War I, Ukraine became one of the founding republics of the Soviet Union in 1922.\\n- **Independence**: Ukraine declared independence from the Soviet Union on August 24, 1991, following a failed coup in Moscow. This independence was confirmed by a national referendum in December 1991.\\n\\n### Culture\\n- **Language**: The official language is Ukrainian, although Russian is also widely spoken, especially in the eastern regions.\\n- **Traditions**: Ukraine has a rich cultural heritage, including folk music, dance, and traditional crafts. The country is known for its vibrant festivals, such as Ivan Kupala and Christmas celebrations.\\n- **Cuisine**: Ukrainian cuisine features hearty dishes, with staples like borscht (beet soup), varenyky (dumplings), and holodets (meat jelly).\\n\\n### Recent Events\\n- **Conflict with Russia**: Since 2014, Ukraine has been involved in an ongoing conflict with Russia, which annexed Crimea and has supported separatist movements in eastern Ukraine. This conflict has led to significant political, economic, and social challenges for the country.\\n- **2022 Invasion**: In February 2022, Russia launched a full-scale invasion of Ukraine, leading to widespread international condemnation and support for Ukraine from various countries. The conflict has resulted in a humanitarian crisis, with millions of Ukrainians displaced.\\n\\n### Economy\\n- Ukraine has a diverse economy, with key sectors including agriculture, manufacturing, and services. It is one of the world\\'s largest grain producers, often referred to as the \"breadbasket of Europe.\"\\n\\n### Government\\n- Ukraine is a unitary parliamentary republic. The President is the head of state, while the Prime Minister is the head of government. The country has faced political challenges, including corruption and governance issues, but has made strides toward reform and integration with European institutions.\\n\\nOverall, Ukraine is a country with a complex history and a resilient population, facing significant challenges but also demonstrating a strong sense of national identity and determination.', additional_kwargs={'refusal': None}, response_metadata={'token_usage': {'completion_tokens': 702, 'prompt_tokens': 30, 'total_tokens': 732, 'completion_tokens_details': {'accepted_prediction_tokens': 0, 'audio_tokens': 0, 'reasoning_tokens': 0, 'rejected_prediction_tokens': 0}, 'prompt_tokens_details': {'audio_tokens': 0, 'cached_tokens': 0}}, 'model_name': 'gpt-4o-mini-2024-07-18', 'system_fingerprint': 'fp_62a23a81ef', 'id': 'chatcmpl-C32DRHGir1BdEpizxahkXiGIz7f5o', 'service_tier': 'default', 'finish_reason': 'stop', 'logprobs': None}, id='run--652d05d0-3108-4ede-9fac-e408ef7a16c6-0', usage_metadata={'input_tokens': 30, 'output_tokens': 702, 'total_tokens': 732, 'input_token_details': {'audio': 0, 'cache_read': 0}, 'output_token_details': {'audio': 0, 'reasoning': 0}})"
      ]
     },
     "execution_count": 8,
     "metadata": {},
     "output_type": "execute_result"
    }
   ],
   "source": [
    "from langchain.schema import HumanMessage, SystemMessage, AIMessage\n",
    "\n",
    "messages = [\n",
    "    SystemMessage(content=\"You are a school teacher that can answer questions and help with tasks.\"),\n",
    "    HumanMessage(content=\"Tell me about Ukraine.\"),\n",
    "]\n",
    "\n",
    "response_1 = chat_model.invoke(messages)\n",
    "response_1"
   ]
  },
  {
   "cell_type": "code",
   "execution_count": 9,
   "id": "17885e0d",
   "metadata": {},
   "outputs": [
    {
     "name": "stdout",
     "output_type": "stream",
     "text": [
      "Ukraine is a country located in Eastern Europe, bordered by Belarus to the north, Russia to the northeast and east, and the Black Sea to the south. It is the largest country in Europe by land area, excluding Russia, and has a rich history and diverse culture.\n",
      "\n",
      "### Geography\n",
      "- **Capital**: Kyiv (also spelled Kiev), which is one of the oldest cities in Eastern Europe.\n",
      "- **Major Cities**: Other significant cities include Kharkiv, Odesa, Lviv, and Dnipro.\n",
      "- **Landscape**: Ukraine features a variety of landscapes, including plains, plateaus, and mountains, particularly in the west (the Carpathians).\n",
      "\n",
      "### History\n",
      "- **Early History**: Ukraine has a long history that dates back to ancient times, with influences from various cultures, including the Scythians, Greeks, and Slavs.\n",
      "- **Kievan Rus**: In the 9th century, the region was part of Kievan Rus, a federation of Slavic tribes that is considered a cultural and political predecessor to modern Ukraine, Russia, and Belarus.\n",
      "- **Polish-Lithuanian Commonwealth**: In the 14th to 18th centuries, parts of Ukraine were under the control of the Polish-Lithuanian Commonwealth.\n",
      "- **Russian Empire and Soviet Union**: In the late 18th century, much of Ukraine became part of the Russian Empire. After a brief period of independence following World War I, Ukraine became one of the founding republics of the Soviet Union in 1922.\n",
      "- **Independence**: Ukraine declared independence from the Soviet Union on August 24, 1991, following a failed coup in Moscow. This independence was confirmed by a national referendum in December 1991.\n",
      "\n",
      "### Culture\n",
      "- **Language**: The official language is Ukrainian, although Russian is also widely spoken, especially in the eastern regions.\n",
      "- **Traditions**: Ukraine has a rich cultural heritage, including folk music, dance, and traditional crafts. The country is known for its vibrant festivals, such as Ivan Kupala and Christmas celebrations.\n",
      "- **Cuisine**: Ukrainian cuisine features hearty dishes, with staples like borscht (beet soup), varenyky (dumplings), and holodets (meat jelly).\n",
      "\n",
      "### Recent Events\n",
      "- **Conflict with Russia**: Since 2014, Ukraine has been involved in an ongoing conflict with Russia, which annexed Crimea and has supported separatist movements in eastern Ukraine. This conflict has led to significant political, economic, and social challenges for the country.\n",
      "- **2022 Invasion**: In February 2022, Russia launched a full-scale invasion of Ukraine, leading to widespread international condemnation and support for Ukraine from various countries. The conflict has resulted in a humanitarian crisis, with millions of Ukrainians displaced.\n",
      "\n",
      "### Economy\n",
      "- Ukraine has a diverse economy, with key sectors including agriculture, manufacturing, and services. It is one of the world's largest grain producers, often referred to as the \"breadbasket of Europe.\"\n",
      "\n",
      "### Government\n",
      "- Ukraine is a unitary parliamentary republic. The President is the head of state, while the Prime Minister is the head of government. The country has faced political challenges, including corruption and governance issues, but has made strides toward reform and integration with European institutions.\n",
      "\n",
      "Overall, Ukraine is a country with a complex history and a resilient population, facing significant challenges but also demonstrating a strong sense of national identity and determination.\n"
     ]
    }
   ],
   "source": [
    "print(response_1.content)"
   ]
  }
 ],
 "metadata": {
  "kernelspec": {
   "display_name": "venv-ds",
   "language": "python",
   "name": "python3"
  },
  "language_info": {
   "codemirror_mode": {
    "name": "ipython",
    "version": 3
   },
   "file_extension": ".py",
   "mimetype": "text/x-python",
   "name": "python",
   "nbconvert_exporter": "python",
   "pygments_lexer": "ipython3",
   "version": "3.12.9"
  }
 },
 "nbformat": 4,
 "nbformat_minor": 5
}
