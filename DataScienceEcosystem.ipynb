{
 "cells": [
  {
   "cell_type": "markdown",
   "id": "c2d07d21-8124-4801-858d-72235e9d6d96",
   "metadata": {},
   "source": [
    "# Data Science Tools and Ecosystem"
   ]
  },
  {
   "cell_type": "markdown",
   "id": "5fd374ce-3e73-4043-a9f9-ae5750d9aa35",
   "metadata": {},
   "source": [
    "In this notebook, Data Science Tools and Ecosystem are summarized."
   ]
  },
  {
   "cell_type": "markdown",
   "id": "2db4e4e7-8f82-4093-aaac-dcc3d30a7756",
   "metadata": {},
   "source": [
    "<b>Objectives:</b>\n",
    "* Get to know with Jupyter\n",
    "* Get to know with Python\n",
    "* Refresh some knowledge\n",
    "\n",
    "## Author\n",
    "Hamalii Volodymyr"
   ]
  },
  {
   "cell_type": "markdown",
   "id": "d36a349f-3fc0-4373-a34b-5c906f7d6bcc",
   "metadata": {},
   "source": [
    "Some of the popular languages that Data Scientists use are:\n",
    "* Python\n",
    "* R\n",
    "* Scala"
   ]
  },
  {
   "cell_type": "markdown",
   "id": "0e890870-53c2-4f89-af2b-16b13ca6a938",
   "metadata": {},
   "source": [
    "Some of the commonly used libraries used by Data Scientists include:\n",
    "* numpy\n",
    "* pandas\n",
    "* matplotlib"
   ]
  },
  {
   "cell_type": "markdown",
   "id": "5dc25264-be99-4660-99d3-97573dc746aa",
   "metadata": {},
   "source": [
    "## Data Science Tools\n",
    "* Anaconda\n",
    "* Spider\n",
    "* PyCharm"
   ]
  },
  {
   "cell_type": "markdown",
   "id": "5b90335c-0418-4a81-8fca-46ca6775fb6e",
   "metadata": {},
   "source": [
    "Below are a few examples of evaluating arithmetic expressions in Python"
   ]
  },
  {
   "cell_type": "code",
   "execution_count": 19,
   "id": "afdc8e3e-95ba-4a98-bec8-8128f9c57af1",
   "metadata": {},
   "outputs": [
    {
     "data": {
      "text/plain": [
       "17"
      ]
     },
     "execution_count": 19,
     "metadata": {},
     "output_type": "execute_result"
    }
   ],
   "source": [
    "# This a simple arithmetic expression to mutiply then add integers\n",
    "(3*4)+5"
   ]
  },
  {
   "cell_type": "code",
   "execution_count": 23,
   "id": "df5de06f-1dea-4049-8af2-d07825ad3adf",
   "metadata": {},
   "outputs": [
    {
     "data": {
      "text/plain": [
       "3.3333333333333335"
      ]
     },
     "execution_count": 23,
     "metadata": {},
     "output_type": "execute_result"
    }
   ],
   "source": [
    "# This will convert 200 minutes to hours by diving by 60\n",
    "mins = 200\n",
    "hours = 200 / 60\n",
    "hours"
   ]
  },
  {
   "cell_type": "code",
   "execution_count": null,
   "id": "d15603f8-218c-45e9-9477-a51ea6383490",
   "metadata": {},
   "outputs": [],
   "source": []
  }
 ],
 "metadata": {
  "kernelspec": {
   "display_name": "venv",
   "language": "python",
   "name": "venv"
  },
  "language_info": {
   "codemirror_mode": {
    "name": "ipython",
    "version": 3
   },
   "file_extension": ".py",
   "mimetype": "text/x-python",
   "name": "python",
   "nbconvert_exporter": "python",
   "pygments_lexer": "ipython3",
   "version": "3.12.6"
  }
 },
 "nbformat": 4,
 "nbformat_minor": 5
}
